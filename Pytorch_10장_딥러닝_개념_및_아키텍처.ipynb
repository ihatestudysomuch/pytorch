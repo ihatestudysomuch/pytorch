{
  "nbformat": 4,
  "nbformat_minor": 0,
  "metadata": {
    "colab": {
      "provenance": [],
      "authorship_tag": "ABX9TyPNAF89Eefcy95s51+A1wFJ",
      "include_colab_link": true
    },
    "kernelspec": {
      "name": "python3",
      "display_name": "Python 3"
    },
    "language_info": {
      "name": "python"
    }
  },
  "cells": [
    {
      "cell_type": "markdown",
      "metadata": {
        "id": "view-in-github",
        "colab_type": "text"
      },
      "source": [
        "<a href=\"https://colab.research.google.com/github/ihatestudysomuch/pytorch/blob/main/Pytorch_10%EC%9E%A5_%EB%94%A5%EB%9F%AC%EB%8B%9D_%EA%B0%9C%EB%85%90_%EB%B0%8F_%EC%95%84%ED%82%A4%ED%85%8D%EC%B2%98.ipynb\" target=\"_parent\"><img src=\"https://colab.research.google.com/assets/colab-badge.svg\" alt=\"Open In Colab\"/></a>"
      ]
    },
    {
      "cell_type": "markdown",
      "source": [
        "## 인공지능 * 딥러닝 * 머신러닝\n",
        "\n",
        "\n",
        "1.   인공지능 -> 머신러닝 -> 딥러닝 순의 하위 개념(하위 개념으로 갈 수록 더 정교화)\n",
        "2.   추상적 -> 예측 -> 강한 예측\n",
        "  - 머신러닝은 데이터를 이용하여 데이터 특성과 패턴을 학습하고 그 결과를 바탕으로 미지의 데이터에 대한 미래를 예측\n",
        "  - 딥러닝은 인공 신경망(ANN, Artifical Neural Network)을 이용하는 것이 머신 러닝과의 차이라고 할 수 있다.\n",
        "\n",
        "1.   앞서 배운 Linear Regression, Logistic Regression은 머신러닝에 더 적합하다.\n",
        "2.   머신러닝은 입력층 - 출력층으로 통하지만 딥러닝은 입력층 - 은닉층 - 출력층으로 구성되어있다.\n",
        "  - 예시로 모델 구성의 머신러닝은 nn.Linear(1,1)의 경우 입력층, 출력층으로 구성하지만, 딥러닝은 nn.Linear(1,1), nn.Linear(1,1)의 경우 입력층, 은닉층 - 은닉층, 출력층으로 구성한다.\n",
        "\n",
        "\n",
        "\n"
      ],
      "metadata": {
        "id": "VSaI0s2rtY0h"
      }
    },
    {
      "cell_type": "code",
      "execution_count": 13,
      "metadata": {
        "colab": {
          "base_uri": "https://localhost:8080/"
        },
        "id": "5CTDKSVDsBPO",
        "outputId": "561da0c0-3e94-4596-a637-a7bd8a737bae"
      },
      "outputs": [
        {
          "output_type": "stream",
          "name": "stdout",
          "text": [
            "torch.Size([10, 1]) torch.Size([10, 1])\n"
          ]
        }
      ],
      "source": [
        "# 데이터 정의\n",
        "import torch\n",
        "\n",
        "x_train = torch.Tensor([2, 4, 6, 8, 10,\n",
        "                        12, 14, 16, 18, 20]).view(10,1)\n",
        "y_train = torch.Tensor([0, 0, 0, 0, 0,\n",
        "                        0, 1, 1, 1, 1]).view(10,1)\n",
        "\n",
        "print(x_train.shape, y_train.shape)"
      ]
    },
    {
      "cell_type": "code",
      "source": [
        "# 신경망 모델 구축\n",
        "from torch import nn\n",
        "\n",
        "class MyDeepLearningModel(nn.Module):\n",
        "    def __init__(self):\n",
        "        super().__init__()\n",
        "        self.deeplearning_stack = nn.Sequential(\n",
        "            nn.Linear(1, 8), # 입력층 - 은닉층, 1개의 입력에 대해 8개의 출력을 내놓는 은닉층\n",
        "            nn.Linear(8, 1), # 은닉층 - 출력층, 8개의 은닉층의 입력에 대해 1개의 출력을 내놓는 출력층\n",
        "            nn.Sigmoid()\n",
        "        )\n",
        "\n",
        "    # 피드 포워드\n",
        "    def forward(self, data):\n",
        "        prediction = self.deeplearning_stack(data)\n",
        "        return prediction"
      ],
      "metadata": {
        "id": "yvG2zBy1tXtl"
      },
      "execution_count": 14,
      "outputs": []
    },
    {
      "cell_type": "code",
      "source": [
        "deeplearning_model = MyDeepLearningModel()\n",
        "\n",
        "# W, b 출력\n",
        "for name, child in deeplearning_model.named_children():\n",
        "    for param in child.parameters():\n",
        "        print(name, param)"
      ],
      "metadata": {
        "colab": {
          "base_uri": "https://localhost:8080/"
        },
        "id": "gLWz_AXJvUwC",
        "outputId": "2c597814-aec2-4110-8700-8985fbbd3325"
      },
      "execution_count": 15,
      "outputs": [
        {
          "output_type": "stream",
          "name": "stdout",
          "text": [
            "deeplearning_stack Parameter containing:\n",
            "tensor([[ 0.1132],\n",
            "        [ 0.3006],\n",
            "        [ 0.7448],\n",
            "        [-0.5364],\n",
            "        [ 0.7751],\n",
            "        [ 0.5264],\n",
            "        [-0.6469],\n",
            "        [ 0.4914]], requires_grad=True)\n",
            "deeplearning_stack Parameter containing:\n",
            "tensor([-6.2950e-01, -3.6129e-02,  5.0264e-01,  4.2832e-04,  9.7621e-02,\n",
            "         8.7065e-02, -1.3306e-01,  7.1782e-01], requires_grad=True)\n",
            "deeplearning_stack Parameter containing:\n",
            "tensor([[ 0.0056,  0.1494,  0.3486,  0.2633,  0.1525,  0.1346, -0.1921,  0.2614]],\n",
            "       requires_grad=True)\n",
            "deeplearning_stack Parameter containing:\n",
            "tensor([0.1697], requires_grad=True)\n"
          ]
        }
      ]
    },
    {
      "cell_type": "markdown",
      "source": [
        "입력층 - 은닉층 가중치 1 * 8 = 8개\n",
        "은닉층 바이어스 8개\n",
        "\n",
        "은닉층 - 출력층 가중치 8 * 1 = 8개\n",
        "출력층 바이어스 1개 .. 로 실행 결과를 알 수 있다."
      ],
      "metadata": {
        "id": "fy_3SVDjxhk_"
      }
    },
    {
      "cell_type": "code",
      "source": [
        "# 손실함수, 옵티마이저\n",
        "\n",
        "loss_function = nn.BCELoss() # 손실함수, Classification이므로 Binary Cross Entropy 사용\n",
        "\n",
        "optimizer = torch.optim.SGD(deeplearning_model.parameters(), lr=1e-1) # 옵티마이저, SGD 사용"
      ],
      "metadata": {
        "id": "tMUK6FA5xJDS"
      },
      "execution_count": 18,
      "outputs": []
    },
    {
      "cell_type": "code",
      "source": [
        "# 학습\n",
        "\n",
        "# 5000번 학습\n",
        "for epoch in range(5001):\n",
        "\n",
        "  outputs = deeplearning_model(x_train) # 입력값인 x_train에 대한 예측값\n",
        "\n",
        "  loss = loss_function(outputs, y_train) # 예측값과 정답값 간의 오차\n",
        "\n",
        "  # 역전파\n",
        "  optimizer.zero_grad()\n",
        "  loss.backward()\n",
        "  optimizer.step()\n",
        "\n",
        "  # 100번 째 학습마다 출력\n",
        "  if epoch % 100 == 0:\n",
        "      print(\"Epoch = \", epoch, \"Loss = \", loss.item())\n",
        ""
      ],
      "metadata": {
        "colab": {
          "base_uri": "https://localhost:8080/"
        },
        "id": "kzKWFaEKxbfA",
        "outputId": "8f9c6e10-f4f8-446b-c0d0-80e934294e52"
      },
      "execution_count": 23,
      "outputs": [
        {
          "output_type": "stream",
          "name": "stdout",
          "text": [
            "Epoch =  0 Loss =  0.0\n",
            "Epoch =  100 Loss =  0.0\n",
            "Epoch =  200 Loss =  0.0\n",
            "Epoch =  300 Loss =  0.0\n",
            "Epoch =  400 Loss =  0.0\n",
            "Epoch =  500 Loss =  0.0\n",
            "Epoch =  600 Loss =  0.0\n",
            "Epoch =  700 Loss =  0.0\n",
            "Epoch =  800 Loss =  0.0\n",
            "Epoch =  900 Loss =  0.0\n",
            "Epoch =  1000 Loss =  0.0\n",
            "Epoch =  1100 Loss =  0.0\n",
            "Epoch =  1200 Loss =  0.0\n",
            "Epoch =  1300 Loss =  0.0\n",
            "Epoch =  1400 Loss =  0.0\n",
            "Epoch =  1500 Loss =  0.0\n",
            "Epoch =  1600 Loss =  0.0\n",
            "Epoch =  1700 Loss =  0.0\n",
            "Epoch =  1800 Loss =  0.0\n",
            "Epoch =  1900 Loss =  0.0\n",
            "Epoch =  2000 Loss =  0.0\n",
            "Epoch =  2100 Loss =  0.0\n",
            "Epoch =  2200 Loss =  0.0\n",
            "Epoch =  2300 Loss =  0.0\n",
            "Epoch =  2400 Loss =  0.0\n",
            "Epoch =  2500 Loss =  0.0\n",
            "Epoch =  2600 Loss =  0.0\n",
            "Epoch =  2700 Loss =  0.0\n",
            "Epoch =  2800 Loss =  0.0\n",
            "Epoch =  2900 Loss =  0.0\n",
            "Epoch =  3000 Loss =  0.0\n",
            "Epoch =  3100 Loss =  0.0\n",
            "Epoch =  3200 Loss =  0.0\n",
            "Epoch =  3300 Loss =  0.0\n",
            "Epoch =  3400 Loss =  0.0\n",
            "Epoch =  3500 Loss =  0.0\n",
            "Epoch =  3600 Loss =  0.0\n",
            "Epoch =  3700 Loss =  0.0\n",
            "Epoch =  3800 Loss =  0.0\n",
            "Epoch =  3900 Loss =  0.0\n",
            "Epoch =  4000 Loss =  0.0\n",
            "Epoch =  4100 Loss =  0.0\n",
            "Epoch =  4200 Loss =  0.0\n",
            "Epoch =  4300 Loss =  0.0\n",
            "Epoch =  4400 Loss =  0.0\n",
            "Epoch =  4500 Loss =  0.0\n",
            "Epoch =  4600 Loss =  0.0\n",
            "Epoch =  4700 Loss =  0.0\n",
            "Epoch =  4800 Loss =  0.0\n",
            "Epoch =  4900 Loss =  0.0\n",
            "Epoch =  5000 Loss =  0.0\n"
          ]
        }
      ]
    },
    {
      "cell_type": "code",
      "source": [
        "# test\n",
        "deeplearning_model.eval() # 신경망 모델을 추론 모드로 변환\n",
        "\n",
        "test_data = torch.Tensor([0.5, 3.0, 3.5, 1.1, 11.0, 15.0, 31.0]).view(7,1)\n",
        "\n",
        "pred = deeplearning_model(test_data) # 학습 완료 후 , test_data(미지의 데이터)로 예측값 도출\n",
        "\n",
        "logical_value =  (pred > 0.5).float() # pred > 0.5 True 즉, 1.0 else False 즉, 0.0\n",
        "\n",
        "print(pred)\n",
        "print(logical_value)"
      ],
      "metadata": {
        "colab": {
          "base_uri": "https://localhost:8080/"
        },
        "id": "2urhW8dlyo7a",
        "outputId": "04aa3ff2-c5a2-497f-f66c-6231e81d4a29"
      },
      "execution_count": 25,
      "outputs": [
        {
          "output_type": "stream",
          "name": "stdout",
          "text": [
            "tensor([[0.],\n",
            "        [0.],\n",
            "        [0.],\n",
            "        [0.],\n",
            "        [0.],\n",
            "        [1.],\n",
            "        [1.]], grad_fn=<SigmoidBackward0>)\n",
            "tensor([[0.],\n",
            "        [0.],\n",
            "        [0.],\n",
            "        [0.],\n",
            "        [0.],\n",
            "        [1.],\n",
            "        [1.]])\n"
          ]
        }
      ]
    },
    {
      "cell_type": "markdown",
      "source": [
        "너무 학습해서 그런가.."
      ],
      "metadata": {
        "id": "e4PxYqRa0I04"
      }
    }
  ]
}