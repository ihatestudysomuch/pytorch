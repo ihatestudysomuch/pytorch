{
  "nbformat": 4,
  "nbformat_minor": 0,
  "metadata": {
    "colab": {
      "provenance": [],
      "authorship_tag": "ABX9TyNeLb3MvGGJSoVc20nvK27C",
      "include_colab_link": true
    },
    "kernelspec": {
      "name": "python3",
      "display_name": "Python 3"
    },
    "language_info": {
      "name": "python"
    }
  },
  "cells": [
    {
      "cell_type": "markdown",
      "metadata": {
        "id": "view-in-github",
        "colab_type": "text"
      },
      "source": [
        "<a href=\"https://colab.research.google.com/github/ihatestudysomuch/pytorch/blob/main/Pytorch_4%EC%9E%A5_%EC%84%A0%ED%98%95%ED%9A%8C%EA%B7%80_%EA%B0%9C%EB%85%90_%EB%B0%8F_%EC%86%90%EC%8B%A4%ED%95%A8%EC%88%98.ipynb\" target=\"_parent\"><img src=\"https://colab.research.google.com/assets/colab-badge.svg\" alt=\"Open In Colab\"/></a>"
      ]
    },
    {
      "cell_type": "markdown",
      "source": [
        "# 이미 봤던 내용이니 복습 차원."
      ],
      "metadata": {
        "id": "t92hce4eH-IL"
      }
    },
    {
      "cell_type": "markdown",
      "source": [
        "## 회귀(Regression)\n",
        "- traning data를 이용해서 데이터의 특성과 상관 관계 등을 파악하고 , 그 결과를 바탕으로 traning data에 존재하지 않는 미지의 데이터(test data)가 주어졌을 때, 그 결과를 연속적인 값(숫자)로 예측하는 것\n",
        ""
      ],
      "metadata": {
        "id": "25jV8NroGB3A"
      }
    },
    {
      "cell_type": "markdown",
      "source": [
        "## 회귀(Regression) - 학습의 정의\n",
        "- traning data를 분석하여 입/출력(각각 x, y)는 y = Wx + b(W는 가중치, b는 바이어스)로 나타낼 수 있고 기울기인 W, y절편인 b를 찾아내는 것이 바로 회귀의 학습 개념이다."
      ],
      "metadata": {
        "id": "Ixj1nhqSHrjf"
      }
    },
    {
      "cell_type": "markdown",
      "source": [
        "## 회귀(Regression) - 오차, 가중치, 바이어스\n",
        "- traning data의 정답 t와 직선 y = Wx + b의 차이를 오차라고 하고 오차는 t - y 즉, t - (Wx + b)이다."
      ],
      "metadata": {
        "id": "wF36nP0FH0Xw"
      }
    },
    {
      "cell_type": "markdown",
      "source": [
        "## 회귀(Regression) - 손실함수\n",
        "- traning data의 정답(t)과 입력(x)에 대한 계산 값 y의 차이를 모두 더해 수식으로 나타냄\n",
        "  - 이 차이에서 + 오차와, - 오차가 동시에 나오면 오차의 합이 0이 될 수도 있기 때문에 손실함수의 값이 0이라는 것이 최소 오차값인지 아닌지 판단이 어렵다.\n",
        "  - 그렇기 때문에 손실함수는 평균오차제곱의 합(.mean(t-y)^2)을으로 값을 도출한다.\n",
        "- traning data에서 t, x가 주어지기 때문에 손실함수의 값은 오직 W, b로 결정난다.\n",
        "- 이처럼 traning dta를 바탕으로 손실함수가 최소 즉, W와 b값이 최소값을 갖는 것이 최종 목적이다."
      ],
      "metadata": {
        "id": "3xjRJlDoH6pa"
      }
    }
  ]
}