{
  "nbformat": 4,
  "nbformat_minor": 0,
  "metadata": {
    "colab": {
      "provenance": [],
      "authorship_tag": "ABX9TyPtEDEvht2wlBT6PlTu7DfJ",
      "include_colab_link": true
    },
    "kernelspec": {
      "name": "python3",
      "display_name": "Python 3"
    },
    "language_info": {
      "name": "python"
    }
  },
  "cells": [
    {
      "cell_type": "markdown",
      "metadata": {
        "id": "view-in-github",
        "colab_type": "text"
      },
      "source": [
        "<a href=\"https://colab.research.google.com/github/ihatestudysomuch/pytorch/blob/main/Pytorch_23%EC%9E%A5_RNN_%EB%8D%B0%EC%9D%B4%ED%84%B0_%EC%98%88%EC%A0%9C.ipynb\" target=\"_parent\"><img src=\"https://colab.research.google.com/assets/colab-badge.svg\" alt=\"Open In Colab\"/></a>"
      ]
    },
    {
      "cell_type": "markdown",
      "source": [
        "## RNN 입력 데이터 개요\n",
        "1. RNN 모델은 인간의 언어나 날씨처럼 시간에 따라서 변하는 시퀀스 데이터를 분석하고 예측하는데 사용된다.\n",
        "2. 그렇기 때문에 RNN 입력 데이터에너느 반드시 시간(또는 순서) 정보가 포함되어있어야 한다.\n",
        "3.즉, RNN 입력 데이터에는 [batch_size, time_steps, feature_nums)의 3차원 Tensor(time_steps가 포함된)로 만들어서 입력층으로 넣어주는 것이 일반적이다.\n",
        "  - batch_size는 time_stesp로 분리되어 있는 데이터의 개수를 나타낸다.\n",
        "  - time_steps는 몇 개의 feature를 모아서 최종 정답을 만들어 내는지를 나타냄 즉, 몇 개의 시점을 이용해서 최종 정답을 만들어 낼지 정의하는 항목이다.\n",
        "  - feature_nums는 하나의 시점에 RNN 모델의 입력층으로 들어가는 데이터 개수 즉, 입력층으로 한 번에 들어가는 데이터 개수\n",
        "4. 예시로 [[['I'], ['go'], ['to']]]는 (1,3,1)이고\n",
        "   [[['I', 'go'], ['go', 'to']]]는 (1,2,2,)이다.\n",
        "5. RNN 데이터를 만들 때는 feature -> time steps -> batch 순서로 만들고 time_steps 개수와 일치하는 정답 데이터를 만든 후, 입력/정답 데이터를 numpy, TensorDataset로 생성한다.\n"
      ],
      "metadata": {
        "id": "3EDjIw_GhjvA"
      }
    },
    {
      "cell_type": "code",
      "execution_count": 3,
      "metadata": {
        "id": "E8jU2fYDhh7k"
      },
      "outputs": [],
      "source": [
        "input_list = [ [ [1,2],[2,3],[3,4] ], [ [5,6], [6,7], [7,8] ] ]\n",
        "label_list = [10, 20]"
      ]
    },
    {
      "cell_type": "code",
      "source": [
        "import numpy as np\n",
        "\n",
        "x_data = np.array(input_list) # (2,3,2) / batch_size, time_steps, feature_nums\n",
        "y_data = np.array(label_list) # (2) / batich_size , ,\n",
        "\n",
        "print(x_data.shape, y_data.shape)"
      ],
      "metadata": {
        "colab": {
          "base_uri": "https://localhost:8080/"
        },
        "id": "eTRI9KtLk64L",
        "outputId": "1e96e4a0-afed-4a1c-8a21-96237d4a475f"
      },
      "execution_count": 5,
      "outputs": [
        {
          "output_type": "stream",
          "name": "stdout",
          "text": [
            "(2, 3, 2) (2,)\n"
          ]
        }
      ]
    },
    {
      "cell_type": "code",
      "source": [
        "import torch\n",
        "from torch.utils.data import TensorDataset\n",
        "\n",
        "x_data = torch.FloatTensor(input_list)\n",
        "y_data = torch.FloatTensor(label_list)\n",
        "\n",
        "print(x_data.size(), y_data.size())\n",
        "\n",
        "dataset = TensorDataset(x_data, y_data)\n"
      ],
      "metadata": {
        "colab": {
          "base_uri": "https://localhost:8080/"
        },
        "id": "9ZGk4tuumzJT",
        "outputId": "e5fcf468-a76e-46e4-ceef-f24074923824"
      },
      "execution_count": 6,
      "outputs": [
        {
          "output_type": "stream",
          "name": "stdout",
          "text": [
            "torch.Size([2, 3, 2]) torch.Size([2])\n"
          ]
        }
      ]
    },
    {
      "cell_type": "markdown",
      "source": [],
      "metadata": {
        "id": "K_PW4jnfn0xZ"
      }
    }
  ]
}