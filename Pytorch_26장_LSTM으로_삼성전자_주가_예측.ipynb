{
  "nbformat": 4,
  "nbformat_minor": 0,
  "metadata": {
    "colab": {
      "provenance": [],
      "authorship_tag": "ABX9TyMN8MQjKfsrpTpQjj7cmjgS",
      "include_colab_link": true
    },
    "kernelspec": {
      "name": "python3",
      "display_name": "Python 3"
    },
    "language_info": {
      "name": "python"
    }
  },
  "cells": [
    {
      "cell_type": "markdown",
      "metadata": {
        "id": "view-in-github",
        "colab_type": "text"
      },
      "source": [
        "<a href=\"https://colab.research.google.com/github/ihatestudysomuch/pytorch/blob/main/Pytorch_26%EC%9E%A5_LSTM%EC%9C%BC%EB%A1%9C_%EC%82%BC%EC%84%B1%EC%A0%84%EC%9E%90_%EC%A3%BC%EA%B0%80_%EC%98%88%EC%B8%A1.ipynb\" target=\"_parent\"><img src=\"https://colab.research.google.com/assets/colab-badge.svg\" alt=\"Open In Colab\"/></a>"
      ]
    },
    {
      "cell_type": "code",
      "source": [
        "\n",
        "import torch\n",
        "import numpy as np\n",
        "import pandas as pd\n",
        "from torch import nn\n",
        "import matplotlib.pyplot as plt\n",
        "from sklearn.preprocessing import MinMaxScaler\n",
        "from torch.utils.data import TensorDataset, DataLoader"
      ],
      "metadata": {
        "id": "Cn1SDfV6humM"
      },
      "execution_count": 2,
      "outputs": []
    },
    {
      "cell_type": "code",
      "source": [
        "DEVICE = torch.device(\"cuda\")  if torch.cuda.is_available() else torch.device(\"cpu\") # ndivia drive 없음\n",
        "\n",
        "print(f\"using PyTorch version: {torch.__version__}, Device: {DEVICE}\")"
      ],
      "metadata": {
        "colab": {
          "base_uri": "https://localhost:8080/"
        },
        "id": "T-DD1tLqhuj2",
        "outputId": "8aa38729-1627-440d-8c9b-a2a9a436c222"
      },
      "execution_count": 19,
      "outputs": [
        {
          "output_type": "stream",
          "name": "stdout",
          "text": [
            "using PyTorch version: 2.5.1+cu121, Device: cpu\n"
          ]
        }
      ]
    },
    {
      "cell_type": "code",
      "source": [
        "# 하이퍼 파라미터\n",
        "\n",
        "FEATURE_NUMS = 4        # 입력층으로 들어가는 데이터 개수 feature\n",
        "SEQ_LENGTH = 5          # 정답을 만들기 위해 필요한 시점 개수 time step\n",
        "HIDDEN_SIZE = 4         # RNN 계열 계층을 구성하는 hidden state 개수\n",
        "NUM_LAYERS = 1          # RNN 계열 계층이 몇겹으로 쌓였는지 나타냄\n",
        "LEARNING_RATE = 1e-3    # 학습율\n",
        "BATCH_SIZE = 20         # 학습을 위한 배치사이즈 개수"
      ],
      "metadata": {
        "id": "cub1-nIAhuiJ"
      },
      "execution_count": 7,
      "outputs": []
    },
    {
      "cell_type": "code",
      "source": [
        "# FinanceDataReader 패키지에서 Pnadas DataFrame으로 삼성전자 주가 다운로드\n",
        "\n",
        "!pip install finance-datareader\n",
        "\n",
        "import FinanceDataReader as fdr\n",
        "\n",
        "df = fdr.DataReader('005930', '2020-01-01', '2024-06-30')\n",
        "\n",
        "df = df[ ['Open', 'High', 'Low', 'Volume', 'Close'] ]\n",
        "\n",
        "df.head(10)\n",
        "\n",
        "df = fdr.DataReader('005930', '2020-01-01', '2024-06-30')\n",
        "\n",
        "df = df[ ['Open', 'High', 'Low', 'Volume', 'Close'] ]\n",
        "\n",
        "df.head(10)"
      ],
      "metadata": {
        "colab": {
          "base_uri": "https://localhost:8080/",
          "height": 805
        },
        "id": "o9GBdYijiZUV",
        "outputId": "3e668d25-1b9e-4f35-bc3e-cf5851e0048f"
      },
      "execution_count": 9,
      "outputs": [
        {
          "output_type": "stream",
          "name": "stdout",
          "text": [
            "Collecting finance-datareader\n",
            "  Downloading finance_datareader-0.9.94-py3-none-any.whl.metadata (466 bytes)\n",
            "Requirement already satisfied: pandas>=0.19.2 in /usr/local/lib/python3.10/dist-packages (from finance-datareader) (2.2.2)\n",
            "Requirement already satisfied: requests>=2.3.0 in /usr/local/lib/python3.10/dist-packages (from finance-datareader) (2.32.3)\n",
            "Collecting requests-file (from finance-datareader)\n",
            "  Downloading requests_file-2.1.0-py2.py3-none-any.whl.metadata (1.7 kB)\n",
            "Requirement already satisfied: lxml in /usr/local/lib/python3.10/dist-packages (from finance-datareader) (5.3.0)\n",
            "Requirement already satisfied: tqdm in /usr/local/lib/python3.10/dist-packages (from finance-datareader) (4.67.1)\n",
            "Requirement already satisfied: numpy>=1.22.4 in /usr/local/lib/python3.10/dist-packages (from pandas>=0.19.2->finance-datareader) (1.26.4)\n",
            "Requirement already satisfied: python-dateutil>=2.8.2 in /usr/local/lib/python3.10/dist-packages (from pandas>=0.19.2->finance-datareader) (2.8.2)\n",
            "Requirement already satisfied: pytz>=2020.1 in /usr/local/lib/python3.10/dist-packages (from pandas>=0.19.2->finance-datareader) (2024.2)\n",
            "Requirement already satisfied: tzdata>=2022.7 in /usr/local/lib/python3.10/dist-packages (from pandas>=0.19.2->finance-datareader) (2024.2)\n",
            "Requirement already satisfied: charset-normalizer<4,>=2 in /usr/local/lib/python3.10/dist-packages (from requests>=2.3.0->finance-datareader) (3.4.1)\n",
            "Requirement already satisfied: idna<4,>=2.5 in /usr/local/lib/python3.10/dist-packages (from requests>=2.3.0->finance-datareader) (3.10)\n",
            "Requirement already satisfied: urllib3<3,>=1.21.1 in /usr/local/lib/python3.10/dist-packages (from requests>=2.3.0->finance-datareader) (2.3.0)\n",
            "Requirement already satisfied: certifi>=2017.4.17 in /usr/local/lib/python3.10/dist-packages (from requests>=2.3.0->finance-datareader) (2024.12.14)\n",
            "Requirement already satisfied: six>=1.5 in /usr/local/lib/python3.10/dist-packages (from python-dateutil>=2.8.2->pandas>=0.19.2->finance-datareader) (1.17.0)\n",
            "Downloading finance_datareader-0.9.94-py3-none-any.whl (89 kB)\n",
            "\u001b[2K   \u001b[90m━━━━━━━━━━━━━━━━━━━━━━━━━━━━━━━━━━━━━━━━\u001b[0m \u001b[32m89.3/89.3 kB\u001b[0m \u001b[31m3.2 MB/s\u001b[0m eta \u001b[36m0:00:00\u001b[0m\n",
            "\u001b[?25hDownloading requests_file-2.1.0-py2.py3-none-any.whl (4.2 kB)\n",
            "Installing collected packages: requests-file, finance-datareader\n",
            "Successfully installed finance-datareader-0.9.94 requests-file-2.1.0\n"
          ]
        },
        {
          "output_type": "execute_result",
          "data": {
            "text/plain": [
              "             Open   High    Low    Volume  Close\n",
              "Date                                            \n",
              "2020-01-02  55500  56000  55000  12993228  55200\n",
              "2020-01-03  56000  56600  54900  15422255  55500\n",
              "2020-01-06  54900  55600  54600  10278951  55500\n",
              "2020-01-07  55700  56400  55600  10009778  55800\n",
              "2020-01-08  56200  57400  55900  23501171  56800\n",
              "2020-01-09  58400  58600  57400  24102579  58600\n",
              "2020-01-10  58800  59700  58300  16000170  59500\n",
              "2020-01-13  59600  60000  59100  11359139  60000\n",
              "2020-01-14  60400  61000  59900  16906295  60000\n",
              "2020-01-15  59500  59600  58900  14300928  59000"
            ],
            "text/html": [
              "\n",
              "  <div id=\"df-32d0618c-602a-44d6-93d6-9f24a21cfd94\" class=\"colab-df-container\">\n",
              "    <div>\n",
              "<style scoped>\n",
              "    .dataframe tbody tr th:only-of-type {\n",
              "        vertical-align: middle;\n",
              "    }\n",
              "\n",
              "    .dataframe tbody tr th {\n",
              "        vertical-align: top;\n",
              "    }\n",
              "\n",
              "    .dataframe thead th {\n",
              "        text-align: right;\n",
              "    }\n",
              "</style>\n",
              "<table border=\"1\" class=\"dataframe\">\n",
              "  <thead>\n",
              "    <tr style=\"text-align: right;\">\n",
              "      <th></th>\n",
              "      <th>Open</th>\n",
              "      <th>High</th>\n",
              "      <th>Low</th>\n",
              "      <th>Volume</th>\n",
              "      <th>Close</th>\n",
              "    </tr>\n",
              "    <tr>\n",
              "      <th>Date</th>\n",
              "      <th></th>\n",
              "      <th></th>\n",
              "      <th></th>\n",
              "      <th></th>\n",
              "      <th></th>\n",
              "    </tr>\n",
              "  </thead>\n",
              "  <tbody>\n",
              "    <tr>\n",
              "      <th>2020-01-02</th>\n",
              "      <td>55500</td>\n",
              "      <td>56000</td>\n",
              "      <td>55000</td>\n",
              "      <td>12993228</td>\n",
              "      <td>55200</td>\n",
              "    </tr>\n",
              "    <tr>\n",
              "      <th>2020-01-03</th>\n",
              "      <td>56000</td>\n",
              "      <td>56600</td>\n",
              "      <td>54900</td>\n",
              "      <td>15422255</td>\n",
              "      <td>55500</td>\n",
              "    </tr>\n",
              "    <tr>\n",
              "      <th>2020-01-06</th>\n",
              "      <td>54900</td>\n",
              "      <td>55600</td>\n",
              "      <td>54600</td>\n",
              "      <td>10278951</td>\n",
              "      <td>55500</td>\n",
              "    </tr>\n",
              "    <tr>\n",
              "      <th>2020-01-07</th>\n",
              "      <td>55700</td>\n",
              "      <td>56400</td>\n",
              "      <td>55600</td>\n",
              "      <td>10009778</td>\n",
              "      <td>55800</td>\n",
              "    </tr>\n",
              "    <tr>\n",
              "      <th>2020-01-08</th>\n",
              "      <td>56200</td>\n",
              "      <td>57400</td>\n",
              "      <td>55900</td>\n",
              "      <td>23501171</td>\n",
              "      <td>56800</td>\n",
              "    </tr>\n",
              "    <tr>\n",
              "      <th>2020-01-09</th>\n",
              "      <td>58400</td>\n",
              "      <td>58600</td>\n",
              "      <td>57400</td>\n",
              "      <td>24102579</td>\n",
              "      <td>58600</td>\n",
              "    </tr>\n",
              "    <tr>\n",
              "      <th>2020-01-10</th>\n",
              "      <td>58800</td>\n",
              "      <td>59700</td>\n",
              "      <td>58300</td>\n",
              "      <td>16000170</td>\n",
              "      <td>59500</td>\n",
              "    </tr>\n",
              "    <tr>\n",
              "      <th>2020-01-13</th>\n",
              "      <td>59600</td>\n",
              "      <td>60000</td>\n",
              "      <td>59100</td>\n",
              "      <td>11359139</td>\n",
              "      <td>60000</td>\n",
              "    </tr>\n",
              "    <tr>\n",
              "      <th>2020-01-14</th>\n",
              "      <td>60400</td>\n",
              "      <td>61000</td>\n",
              "      <td>59900</td>\n",
              "      <td>16906295</td>\n",
              "      <td>60000</td>\n",
              "    </tr>\n",
              "    <tr>\n",
              "      <th>2020-01-15</th>\n",
              "      <td>59500</td>\n",
              "      <td>59600</td>\n",
              "      <td>58900</td>\n",
              "      <td>14300928</td>\n",
              "      <td>59000</td>\n",
              "    </tr>\n",
              "  </tbody>\n",
              "</table>\n",
              "</div>\n",
              "    <div class=\"colab-df-buttons\">\n",
              "\n",
              "  <div class=\"colab-df-container\">\n",
              "    <button class=\"colab-df-convert\" onclick=\"convertToInteractive('df-32d0618c-602a-44d6-93d6-9f24a21cfd94')\"\n",
              "            title=\"Convert this dataframe to an interactive table.\"\n",
              "            style=\"display:none;\">\n",
              "\n",
              "  <svg xmlns=\"http://www.w3.org/2000/svg\" height=\"24px\" viewBox=\"0 -960 960 960\">\n",
              "    <path d=\"M120-120v-720h720v720H120Zm60-500h600v-160H180v160Zm220 220h160v-160H400v160Zm0 220h160v-160H400v160ZM180-400h160v-160H180v160Zm440 0h160v-160H620v160ZM180-180h160v-160H180v160Zm440 0h160v-160H620v160Z\"/>\n",
              "  </svg>\n",
              "    </button>\n",
              "\n",
              "  <style>\n",
              "    .colab-df-container {\n",
              "      display:flex;\n",
              "      gap: 12px;\n",
              "    }\n",
              "\n",
              "    .colab-df-convert {\n",
              "      background-color: #E8F0FE;\n",
              "      border: none;\n",
              "      border-radius: 50%;\n",
              "      cursor: pointer;\n",
              "      display: none;\n",
              "      fill: #1967D2;\n",
              "      height: 32px;\n",
              "      padding: 0 0 0 0;\n",
              "      width: 32px;\n",
              "    }\n",
              "\n",
              "    .colab-df-convert:hover {\n",
              "      background-color: #E2EBFA;\n",
              "      box-shadow: 0px 1px 2px rgba(60, 64, 67, 0.3), 0px 1px 3px 1px rgba(60, 64, 67, 0.15);\n",
              "      fill: #174EA6;\n",
              "    }\n",
              "\n",
              "    .colab-df-buttons div {\n",
              "      margin-bottom: 4px;\n",
              "    }\n",
              "\n",
              "    [theme=dark] .colab-df-convert {\n",
              "      background-color: #3B4455;\n",
              "      fill: #D2E3FC;\n",
              "    }\n",
              "\n",
              "    [theme=dark] .colab-df-convert:hover {\n",
              "      background-color: #434B5C;\n",
              "      box-shadow: 0px 1px 3px 1px rgba(0, 0, 0, 0.15);\n",
              "      filter: drop-shadow(0px 1px 2px rgba(0, 0, 0, 0.3));\n",
              "      fill: #FFFFFF;\n",
              "    }\n",
              "  </style>\n",
              "\n",
              "    <script>\n",
              "      const buttonEl =\n",
              "        document.querySelector('#df-32d0618c-602a-44d6-93d6-9f24a21cfd94 button.colab-df-convert');\n",
              "      buttonEl.style.display =\n",
              "        google.colab.kernel.accessAllowed ? 'block' : 'none';\n",
              "\n",
              "      async function convertToInteractive(key) {\n",
              "        const element = document.querySelector('#df-32d0618c-602a-44d6-93d6-9f24a21cfd94');\n",
              "        const dataTable =\n",
              "          await google.colab.kernel.invokeFunction('convertToInteractive',\n",
              "                                                    [key], {});\n",
              "        if (!dataTable) return;\n",
              "\n",
              "        const docLinkHtml = 'Like what you see? Visit the ' +\n",
              "          '<a target=\"_blank\" href=https://colab.research.google.com/notebooks/data_table.ipynb>data table notebook</a>'\n",
              "          + ' to learn more about interactive tables.';\n",
              "        element.innerHTML = '';\n",
              "        dataTable['output_type'] = 'display_data';\n",
              "        await google.colab.output.renderOutput(dataTable, element);\n",
              "        const docLink = document.createElement('div');\n",
              "        docLink.innerHTML = docLinkHtml;\n",
              "        element.appendChild(docLink);\n",
              "      }\n",
              "    </script>\n",
              "  </div>\n",
              "\n",
              "\n",
              "<div id=\"df-2e720de4-4429-4796-94fb-7239fe4fe532\">\n",
              "  <button class=\"colab-df-quickchart\" onclick=\"quickchart('df-2e720de4-4429-4796-94fb-7239fe4fe532')\"\n",
              "            title=\"Suggest charts\"\n",
              "            style=\"display:none;\">\n",
              "\n",
              "<svg xmlns=\"http://www.w3.org/2000/svg\" height=\"24px\"viewBox=\"0 0 24 24\"\n",
              "     width=\"24px\">\n",
              "    <g>\n",
              "        <path d=\"M19 3H5c-1.1 0-2 .9-2 2v14c0 1.1.9 2 2 2h14c1.1 0 2-.9 2-2V5c0-1.1-.9-2-2-2zM9 17H7v-7h2v7zm4 0h-2V7h2v10zm4 0h-2v-4h2v4z\"/>\n",
              "    </g>\n",
              "</svg>\n",
              "  </button>\n",
              "\n",
              "<style>\n",
              "  .colab-df-quickchart {\n",
              "      --bg-color: #E8F0FE;\n",
              "      --fill-color: #1967D2;\n",
              "      --hover-bg-color: #E2EBFA;\n",
              "      --hover-fill-color: #174EA6;\n",
              "      --disabled-fill-color: #AAA;\n",
              "      --disabled-bg-color: #DDD;\n",
              "  }\n",
              "\n",
              "  [theme=dark] .colab-df-quickchart {\n",
              "      --bg-color: #3B4455;\n",
              "      --fill-color: #D2E3FC;\n",
              "      --hover-bg-color: #434B5C;\n",
              "      --hover-fill-color: #FFFFFF;\n",
              "      --disabled-bg-color: #3B4455;\n",
              "      --disabled-fill-color: #666;\n",
              "  }\n",
              "\n",
              "  .colab-df-quickchart {\n",
              "    background-color: var(--bg-color);\n",
              "    border: none;\n",
              "    border-radius: 50%;\n",
              "    cursor: pointer;\n",
              "    display: none;\n",
              "    fill: var(--fill-color);\n",
              "    height: 32px;\n",
              "    padding: 0;\n",
              "    width: 32px;\n",
              "  }\n",
              "\n",
              "  .colab-df-quickchart:hover {\n",
              "    background-color: var(--hover-bg-color);\n",
              "    box-shadow: 0 1px 2px rgba(60, 64, 67, 0.3), 0 1px 3px 1px rgba(60, 64, 67, 0.15);\n",
              "    fill: var(--button-hover-fill-color);\n",
              "  }\n",
              "\n",
              "  .colab-df-quickchart-complete:disabled,\n",
              "  .colab-df-quickchart-complete:disabled:hover {\n",
              "    background-color: var(--disabled-bg-color);\n",
              "    fill: var(--disabled-fill-color);\n",
              "    box-shadow: none;\n",
              "  }\n",
              "\n",
              "  .colab-df-spinner {\n",
              "    border: 2px solid var(--fill-color);\n",
              "    border-color: transparent;\n",
              "    border-bottom-color: var(--fill-color);\n",
              "    animation:\n",
              "      spin 1s steps(1) infinite;\n",
              "  }\n",
              "\n",
              "  @keyframes spin {\n",
              "    0% {\n",
              "      border-color: transparent;\n",
              "      border-bottom-color: var(--fill-color);\n",
              "      border-left-color: var(--fill-color);\n",
              "    }\n",
              "    20% {\n",
              "      border-color: transparent;\n",
              "      border-left-color: var(--fill-color);\n",
              "      border-top-color: var(--fill-color);\n",
              "    }\n",
              "    30% {\n",
              "      border-color: transparent;\n",
              "      border-left-color: var(--fill-color);\n",
              "      border-top-color: var(--fill-color);\n",
              "      border-right-color: var(--fill-color);\n",
              "    }\n",
              "    40% {\n",
              "      border-color: transparent;\n",
              "      border-right-color: var(--fill-color);\n",
              "      border-top-color: var(--fill-color);\n",
              "    }\n",
              "    60% {\n",
              "      border-color: transparent;\n",
              "      border-right-color: var(--fill-color);\n",
              "    }\n",
              "    80% {\n",
              "      border-color: transparent;\n",
              "      border-right-color: var(--fill-color);\n",
              "      border-bottom-color: var(--fill-color);\n",
              "    }\n",
              "    90% {\n",
              "      border-color: transparent;\n",
              "      border-bottom-color: var(--fill-color);\n",
              "    }\n",
              "  }\n",
              "</style>\n",
              "\n",
              "  <script>\n",
              "    async function quickchart(key) {\n",
              "      const quickchartButtonEl =\n",
              "        document.querySelector('#' + key + ' button');\n",
              "      quickchartButtonEl.disabled = true;  // To prevent multiple clicks.\n",
              "      quickchartButtonEl.classList.add('colab-df-spinner');\n",
              "      try {\n",
              "        const charts = await google.colab.kernel.invokeFunction(\n",
              "            'suggestCharts', [key], {});\n",
              "      } catch (error) {\n",
              "        console.error('Error during call to suggestCharts:', error);\n",
              "      }\n",
              "      quickchartButtonEl.classList.remove('colab-df-spinner');\n",
              "      quickchartButtonEl.classList.add('colab-df-quickchart-complete');\n",
              "    }\n",
              "    (() => {\n",
              "      let quickchartButtonEl =\n",
              "        document.querySelector('#df-2e720de4-4429-4796-94fb-7239fe4fe532 button');\n",
              "      quickchartButtonEl.style.display =\n",
              "        google.colab.kernel.accessAllowed ? 'block' : 'none';\n",
              "    })();\n",
              "  </script>\n",
              "</div>\n",
              "\n",
              "    </div>\n",
              "  </div>\n"
            ],
            "application/vnd.google.colaboratory.intrinsic+json": {
              "type": "dataframe",
              "variable_name": "df",
              "summary": "{\n  \"name\": \"df\",\n  \"rows\": 1108,\n  \"fields\": [\n    {\n      \"column\": \"Date\",\n      \"properties\": {\n        \"dtype\": \"date\",\n        \"min\": \"2020-01-02 00:00:00\",\n        \"max\": \"2024-06-28 00:00:00\",\n        \"num_unique_values\": 1108,\n        \"samples\": [\n          \"2022-06-29 00:00:00\",\n          \"2022-12-20 00:00:00\",\n          \"2020-03-24 00:00:00\"\n        ],\n        \"semantic_type\": \"\",\n        \"description\": \"\"\n      }\n    },\n    {\n      \"column\": \"Open\",\n      \"properties\": {\n        \"dtype\": \"number\",\n        \"std\": 9940,\n        \"min\": 42600,\n        \"max\": 90300,\n        \"num_unique_values\": 363,\n        \"samples\": [\n          84500,\n          56700,\n          59400\n        ],\n        \"semantic_type\": \"\",\n        \"description\": \"\"\n      }\n    },\n    {\n      \"column\": \"High\",\n      \"properties\": {\n        \"dtype\": \"number\",\n        \"std\": 9973,\n        \"min\": 43550,\n        \"max\": 96800,\n        \"num_unique_values\": 360,\n        \"samples\": [\n          74400,\n          49650,\n          68800\n        ],\n        \"semantic_type\": \"\",\n        \"description\": \"\"\n      }\n    },\n    {\n      \"column\": \"Low\",\n      \"properties\": {\n        \"dtype\": \"number\",\n        \"std\": 9890,\n        \"min\": 42300,\n        \"max\": 89500,\n        \"num_unique_values\": 361,\n        \"samples\": [\n          86300,\n          53700,\n          60700\n        ],\n        \"semantic_type\": \"\",\n        \"description\": \"\"\n      }\n    },\n    {\n      \"column\": \"Volume\",\n      \"properties\": {\n        \"dtype\": \"number\",\n        \"std\": 8124844,\n        \"min\": 5767902,\n        \"max\": 90306177,\n        \"num_unique_values\": 1108,\n        \"samples\": [\n          14677138,\n          9284761,\n          49801908\n        ],\n        \"semantic_type\": \"\",\n        \"description\": \"\"\n      }\n    },\n    {\n      \"column\": \"Close\",\n      \"properties\": {\n        \"dtype\": \"number\",\n        \"std\": 9919,\n        \"min\": 42500,\n        \"max\": 91000,\n        \"num_unique_values\": 366,\n        \"samples\": [\n          84700,\n          55000,\n          59100\n        ],\n        \"semantic_type\": \"\",\n        \"description\": \"\"\n      }\n    }\n  ]\n}"
            }
          },
          "metadata": {},
          "execution_count": 9
        }
      ]
    },
    {
      "cell_type": "code",
      "source": [
        "df['Close'].plot().grid() # 주가 시각화"
      ],
      "metadata": {
        "colab": {
          "base_uri": "https://localhost:8080/",
          "height": 433
        },
        "id": "GT6JEHSyiZSF",
        "outputId": "88bf2dda-8a9f-4b37-82c0-91222cca3efe"
      },
      "execution_count": 10,
      "outputs": [
        {
          "output_type": "display_data",
          "data": {
            "text/plain": [
              "<Figure size 640x480 with 1 Axes>"
            ],
            "image/png": "[encoded data removed]"
          },
          "metadata": {}
        }
      ]
    },
    {
      "cell_type": "code",
      "source": [
        "SPLIT = int(0.7*len(df)) # train, test 7:3\n",
        "\n",
        "train_df = df[:SPLIT]\n",
        "test_df = df[SPLIT:]"
      ],
      "metadata": {
        "id": "UIjtec7jjwNK"
      },
      "execution_count": 11,
      "outputs": []
    },
    {
      "cell_type": "code",
      "source": [
        "scaler_x = MinMaxScaler() # MinMaxScaler()로 0과 1사이의 값을 가지도록 Scaling\n",
        "\n",
        "train_df.iloc[:,:-1] = scaler_x.fit_transform(train_df.iloc[:,:-1])\n",
        "test_df.iloc[:,:-1] = scaler_x.fit_transform(test_df.iloc[:,:-1])\n",
        "\n",
        "scaler_y = MinMaxScaler() # MinMaxScaler()로 0과 1사이의 값을 가지도록 Scaling\n",
        "\n",
        "train_df.iloc[:,-1] = scaler_y.fit_transform(train_df.iloc[:,[-1]])\n",
        "test_df.iloc[:,-1] = scaler_y.fit_transform(test_df.iloc[:,[-1]])"
      ],
      "metadata": {
        "colab": {
          "base_uri": "https://localhost:8080/"
        },
        "collapsed": true,
        "id": "rDXxS1FjjwLb",
        "outputId": "fff033a2-4fba-4a33-9102-6554a405012e"
      },
      "execution_count": 15,
      "outputs": [
        {
          "output_type": "stream",
          "name": "stderr",
          "text": [
            "<ipython-input-15-ddd580913d88>:9: FutureWarning: Setting an item of incompatible dtype is deprecated and will raise in a future error of pandas. Value '[0.14068441 0.11787072 0.07984791 0.11406844 0.08745247 0.05703422\n",
            " 0.0608365  0.06844106 0.05703422 0.09505703 0.06463878 0.04942966\n",
            " 0.0418251  0.01901141 0.03802281 0.         0.03041825 0.03422053\n",
            " 0.08745247 0.04562738 0.04942966 0.07984791 0.12547529 0.15209125\n",
            " 0.11787072 0.14828897 0.14068441 0.15969582 0.19011407 0.15589354\n",
            " 0.17490494 0.18631179 0.12547529 0.22813688 0.25475285 0.26235741\n",
            " 0.2661597  0.26996198 0.23193916 0.23954373 0.25095057 0.24714829\n",
            " 0.23954373 0.25475285 0.23574144 0.17490494 0.19391635 0.21292776\n",
            " 0.24714829 0.25475285 0.24334601 0.23193916 0.26235741 0.23954373\n",
            " 0.21292776 0.19771863 0.19391635 0.20912548 0.24334601 0.22813688\n",
            " 0.27376426 0.35741445 0.36121673 0.35741445 0.36121673 0.37262357\n",
            " 0.42965779 0.50570342 0.47148289 0.45247148 0.50190114 0.48288973\n",
            " 0.45627376 0.45247148 0.49429658 0.45627376 0.49429658 0.4904943\n",
            " 0.47528517 0.48669202 0.46387833 0.47148289 0.43726236 0.46768061\n",
            " 0.47908745 0.5095057  0.51711027 0.52091255 0.5095057  0.50190114\n",
            " 0.53231939 0.53231939 0.49429658 0.47908745 0.41444867 0.39923954\n",
            " 0.47528517 0.4904943  0.4904943  0.54752852 0.54372624 0.49429658\n",
            " 0.48288973 0.45627376 0.42965779 0.43346008 0.41825095 0.41064639\n",
            " 0.48288973 0.44106464 0.41064639 0.46007605 0.41444867 0.37262357\n",
            " 0.35361217 0.36121673 0.3269962  0.37642586 0.34220532 0.32319392\n",
            " 0.31558935 0.30418251 0.29277567 0.27756654 0.28897338 0.28897338\n",
            " 0.30798479 0.34980989 0.30798479 0.29657795 0.29657795 0.30798479\n",
            " 0.30038023 0.45627376 0.46387833 0.44486692 0.41825095 0.43346008\n",
            " 0.42965779 0.4486692  0.43726236 0.45247148 0.48288973 0.49429658\n",
            " 0.42585551 0.41064639 0.40304183 0.37642586 0.37262357 0.39543726\n",
            " 0.36501901 0.35741445 0.32319392 0.29277567 0.2661597  0.28136882\n",
            " 0.34980989 0.37642586 0.34220532 0.31558935 0.39543726 0.43726236\n",
            " 0.39923954 0.37262357 0.35741445 0.36121673 0.34220532 0.29277567\n",
            " 0.31558935 0.31558935 0.30038023 0.36501901 0.40684411 0.40304183\n",
            " 0.45247148 0.45247148 0.41444867 0.42965779 0.43726236 0.43346008\n",
            " 0.4486692  0.50190114 0.52471483 0.51330798 0.52091255 0.52471483\n",
            " 0.52471483 0.5095057  0.48288973 0.46768061 0.52091255 0.52091255\n",
            " 0.52471483 0.49429658 0.51711027 0.46387833 0.48288973 0.47528517\n",
            " 0.51711027 0.53231939 0.5513308  0.52471483 0.53612167 0.54372624\n",
            " 0.52851711 0.54752852 0.60076046 0.60836502 0.64258555 0.66920152\n",
            " 0.72243346 0.74144487 0.78326996 0.68441065 0.66920152 0.66920152\n",
            " 0.66539924 0.59695817 0.55513308 0.53992395 0.53612167 0.56653992\n",
            " 0.51711027 0.45627376 0.48288973 0.59695817 0.6121673  0.61596958\n",
            " 0.57034221 0.57414449 0.54752852 0.58555133 0.58174905 0.52091255\n",
            " 0.55513308 0.61596958 0.58174905 0.58555133 0.60836502 0.57414449\n",
            " 0.61596958 0.57034221 0.53231939 0.52471483 0.56273764 0.54372624\n",
            " 0.53231939 0.53612167 0.52851711 0.52471483 0.52851711 0.53992395\n",
            " 0.54752852 0.60456274 0.55893536 0.52851711 0.50190114 0.54372624\n",
            " 0.5095057  0.54372624 0.57414449 0.58174905 0.50570342 0.52471483\n",
            " 0.52471483 0.68060837 0.77186312 0.75665399 0.73003802 0.79467681\n",
            " 0.79087452 0.82889734 0.88973384 0.87452471 0.98859316 0.95437262\n",
            " 1.         0.96958175 0.96958175 0.93536122 0.95437262 0.9391635\n",
            " 0.88212928 0.79847909 0.75665399 0.78326996 0.70722433 0.65019011\n",
            " 0.62737643 0.74524715 0.65779468 0.6730038  0.6730038  0.70342205\n",
            " 0.72243346 0.70722433 0.84790875 0.84790875 0.78707224 0.76806084\n",
            " 0.73764259 0.7338403  0.73003802 0.69961977 0.75665399 0.73764259\n",
            " 0.71102662 0.7338403  0.64258555 0.69201521 0.70722433 0.61596958\n",
            " 0.5513308  0.5513308  0.63498099 0.61977186 0.69961977 0.69581749\n",
            " 0.63498099 0.61596958 0.66539924 0.74524715 0.78326996 0.72623574\n",
            " 0.79087452 0.84410646 0.85931559 0.79847909 0.82129278 0.82889734\n",
            " 0.84790875 0.85931559 0.85551331]' has dtype incompatible with int64, please explicitly cast to a compatible dtype first.\n",
            "  test_df.iloc[:,-1] = scaler_y.fit_transform(test_df.iloc[:,[-1]])\n"
          ]
        }
      ]
    },
    {
      "cell_type": "code",
      "source": [
        "def MakeSeqNumpyData(data, seq_length):\n",
        "\n",
        "    x_seq_list = []\n",
        "    y_seq_list = []\n",
        "\n",
        "    for i in range(len(data) - seq_length):\n",
        "        x_seq_list.append(data[ i:i+seq_length, :-1 ]) # 1~5일간의 데이터를 모은다고 가정\n",
        "        y_seq_list.append(data[ i+seq_length, [-1] ]) # 그 경우 6일차의 주가를 예측\n",
        "\n",
        "    x_seq_numpy = np.array(x_seq_list)\n",
        "    y_seq_numpy = np.array(y_seq_list)\n",
        "\n",
        "    return x_seq_numpy, y_seq_numpy"
      ],
      "metadata": {
        "id": "cq1pxTGDjwHC"
      },
      "execution_count": 16,
      "outputs": []
    },
    {
      "cell_type": "code",
      "source": [
        "# train, test 데이터 생성\n",
        "x_train_data, y_train_data = MakeSeqNumpyData(np.array(train_df), SEQ_LENGTH)\n",
        "\n",
        "x_test_data, y_test_data = MakeSeqNumpyData(np.array(test_df), SEQ_LENGTH)\n",
        "\n",
        "print(x_train_data.shape, y_train_data.shape)\n",
        "print(x_test_data.shape, y_test_data.shape)"
      ],
      "metadata": {
        "colab": {
          "base_uri": "https://localhost:8080/"
        },
        "id": "Y5adPyhajwFK",
        "outputId": "ab01ecd5-ba37-420b-8224-fa1564b111a4"
      },
      "execution_count": 17,
      "outputs": [
        {
          "output_type": "stream",
          "name": "stdout",
          "text": [
            "(770, 5, 4) (770, 1)\n",
            "(328, 5, 4) (328, 1)\n"
          ]
        }
      ]
    },
    {
      "cell_type": "code",
      "source": [
        "# tensor 데이터 생성\n",
        "x_train_tensor = torch.FloatTensor(x_train_data).to(DEVICE)\n",
        "x_test_tensor = torch.FloatTensor(x_test_data).to(DEVICE)\n",
        "\n",
        "y_train_tensor = torch.FloatTensor(y_train_data).to(DEVICE)\n",
        "y_test_tensor = torch.FloatTensor(y_test_data).to(DEVICE)\n",
        "\n",
        "# dataset 정의\n",
        "train_dataset = TensorDataset(x_train_tensor, y_train_tensor)\n",
        "test_dataset = TensorDataset(x_test_tensor, y_test_tensor)\n",
        "\n",
        "# dataloader 정의\n",
        "train_dataloader = DataLoader(train_dataset, batch_size=BATCH_SIZE, shuffle=True)\n",
        "test_dataloader = DataLoader(test_dataset, batch_size=BATCH_SIZE, shuffle=False)\n",
        "\n"
      ],
      "metadata": {
        "id": "-4O830KtnGn5"
      },
      "execution_count": 20,
      "outputs": []
    },
    {
      "cell_type": "code",
      "source": [
        "# 모델 정의\n",
        "class MyLSTMModel(nn.Module):\n",
        "\n",
        "    def __init__(self, input_size, hidden_size, num_layers):\n",
        "        super().__init__()\n",
        "        self.num_layers = num_layers\n",
        "        self.hidden_size = hidden_size\n",
        "        self.lstm = nn.LSTM(input_size, hidden_size, num_layers, batch_first=True)\n",
        "        self.fc = nn.Linear(hidden_size, 1) # 하나의 출력값\n",
        "\n",
        "    # 피드포워드\n",
        "    def forward(self, data):\n",
        "        # 은닉, 셀 상태 정의(0으로 초기화)\n",
        "        h0 = torch.zeros(self.num_layers, data.size(0), self.hidden_size).to(DEVICE)\n",
        "        c0 = torch.zeros(self.num_layers, data.size(0), self.hidden_size).to(DEVICE)\n",
        "\n",
        "        outputs, _ = self.lstm(data, (h0, c0)) # time steps 전부의 시점\n",
        "        last_hs = outputs[:, -1, :] # 마지막 time steps (slicing 하는 거 보니 마지막값 맞음)\n",
        "        prediction = self.fc(last_hs) # Fully Connected Layer\n",
        "\n",
        "        return prediction"
      ],
      "metadata": {
        "id": "p1By50tdnGlY"
      },
      "execution_count": 22,
      "outputs": []
    },
    {
      "cell_type": "code",
      "source": [
        "# 손실함수, 옵티마이저\n",
        "model = MyLSTMModel(FEATURE_NUMS, HIDDEN_SIZE, NUM_LAYERS).to(DEVICE)\n",
        "\n",
        "loss_function = nn.MSELoss()\n",
        "\n",
        "optimizer = torch.optim.Adam(model.parameters(), lr=LEARNING_RATE)"
      ],
      "metadata": {
        "id": "Yws5vLPcnGjg"
      },
      "execution_count": 23,
      "outputs": []
    },
    {
      "cell_type": "code",
      "source": [
        "def model_train(dataloader, model, loss_function, optimizer):\n",
        "\n",
        "    # traning 즉, 학습모드 on\n",
        "    model.train()\n",
        "\n",
        "    train_loss_sum = 0\n",
        "\n",
        "    total_train_batch = len(dataloader)\n",
        "\n",
        "    for inputs, labels in dataloader:\n",
        "\n",
        "        x_train = inputs.to(DEVICE)\n",
        "        y_train = labels.to(DEVICE)\n",
        "\n",
        "        outputs = model(x_train) # 예측값\n",
        "        loss = loss_function(outputs, y_train) # 오차\n",
        "\n",
        "        # 역전파\n",
        "        optimizer.zero_grad()\n",
        "        loss.backward()\n",
        "        optimizer.step()\n",
        "\n",
        "        train_loss_sum += loss.item()\n",
        "\n",
        "    train_avg_loss = train_loss_sum / total_train_batch\n",
        "\n",
        "    return train_avg_loss"
      ],
      "metadata": {
        "id": "RkMz_ssQpxLW"
      },
      "execution_count": 24,
      "outputs": []
    },
    {
      "cell_type": "code",
      "source": [
        "def model_evaluate(dataloader, model, loss_function, optimizer):\n",
        "\n",
        "    # evaluation 즉, 평가모드 on\n",
        "    model.eval()\n",
        "\n",
        "    with torch.no_grad():\n",
        "\n",
        "        val_loss_sum = 0\n",
        "\n",
        "        total_val_batch = len(dataloader)\n",
        "\n",
        "        for inputs, labels in dataloader:\n",
        "\n",
        "            x_val = inputs.to(DEVICE)\n",
        "            y_val = labels.to(DEVICE)\n",
        "\n",
        "            outputs = model(x_val) # 예측값\n",
        "            loss = loss_function(outputs, y_val) # 오차\n",
        "\n",
        "            val_loss_sum += loss.item()\n",
        "\n",
        "        val_avg_loss = val_loss_sum / total_val_batch\n",
        "\n",
        "    return val_avg_loss"
      ],
      "metadata": {
        "id": "IAJqezrVqBcJ"
      },
      "execution_count": 27,
      "outputs": []
    },
    {
      "cell_type": "code",
      "source": [
        "from datetime import datetime\n",
        "\n",
        "train_loss_list = []\n",
        "\n",
        "start_time = datetime.now()\n",
        "\n",
        "EPOCHS = 200\n",
        "\n",
        "# 200번 반복\n",
        "for epoch in range(EPOCHS):\n",
        "\n",
        "    avg_loss = model_train(train_dataloader, model, loss_function, optimizer)\n",
        "\n",
        "    train_loss_list.append(avg_loss)\n",
        "\n",
        "    if (epoch % 10 == 0):\n",
        "        print('epoch: ', epoch, ', train loss = ', avg_loss)\n",
        "\n",
        "end_time = datetime.now()\n",
        "\n",
        "print('elapsed time => ', end_time-start_time)\n",
        ""
      ],
      "metadata": {
        "colab": {
          "base_uri": "https://localhost:8080/"
        },
        "id": "yxHYD2ZjqB7h",
        "outputId": "cad962b6-2906-4f20-f2f0-dc10f4a51279"
      },
      "execution_count": 28,
      "outputs": [
        {
          "output_type": "stream",
          "name": "stdout",
          "text": [
            "epoch:  0 , train loss =  0.8463010100217966\n",
            "epoch:  10 , train loss =  0.003214965917719289\n",
            "epoch:  20 , train loss =  0.001577426264516245\n",
            "epoch:  30 , train loss =  0.001206830821525401\n",
            "epoch:  40 , train loss =  0.0010878156209424234\n",
            "epoch:  50 , train loss =  0.0009849567745382397\n",
            "epoch:  60 , train loss =  0.0009440950047857582\n",
            "epoch:  70 , train loss =  0.0008993502989865076\n",
            "epoch:  80 , train loss =  0.0008782420758134088\n",
            "epoch:  90 , train loss =  0.0008466735001629553\n",
            "epoch:  100 , train loss =  0.0008604651554308545\n",
            "epoch:  110 , train loss =  0.0008200602993989984\n",
            "epoch:  120 , train loss =  0.0007874726053649703\n",
            "epoch:  130 , train loss =  0.0007889543351036712\n",
            "epoch:  140 , train loss =  0.0007620698698491862\n",
            "epoch:  150 , train loss =  0.0007805343902407166\n",
            "epoch:  160 , train loss =  0.0007542048577959529\n",
            "epoch:  170 , train loss =  0.000741665682140499\n",
            "epoch:  180 , train loss =  0.0007243078490808749\n",
            "epoch:  190 , train loss =  0.0007222400320013269\n",
            "elapsed time =>  0:00:21.964603\n"
          ]
        }
      ]
    },
    {
      "cell_type": "code",
      "source": [
        "# 시각화\n",
        "import matplotlib.pyplot as plt\n",
        "\n",
        "plt.title('Loss Trend')\n",
        "plt.xlabel('epochs')\n",
        "plt.ylabel('loss')\n",
        "plt.grid()\n",
        "plt.plot(train_loss_list, label='train loss')\n",
        "plt.legend()\n",
        "plt.show()"
      ],
      "metadata": {
        "colab": {
          "base_uri": "https://localhost:8080/",
          "height": 472
        },
        "id": "ukrouEcpqwOQ",
        "outputId": "a7d675b9-82eb-4bfb-bb75-5e73110d9056"
      },
      "execution_count": 29,
      "outputs": [
        {
          "output_type": "display_data",
          "data": {
            "text/plain": [
              "<Figure size 640x480 with 1 Axes>"
            ],
            "image/png": "[encoded data removed]"
          },
          "metadata": {}
        }
      ]
    },
    {
      "cell_type": "code",
      "source": [
        "# test\n",
        "test_pred_tensor = model(x_test_tensor) # test 예측값\n",
        "\n",
        "test_pred_numpy = test_pred_tensor.cpu().detach().numpy() # cpu로 자동 미분이 있는 tensor를 연산 기록에서 분리하여 그래프에 추가하지 않고(역전파 방지)  numpy로 변환\n",
        "\n",
        "pred_inverse = scaler_y.inverse_transform(test_pred_numpy)\n",
        "\n",
        "y_test_numpy = y_test_tensor.cpu().detach().numpy()\n",
        "\n",
        "y_test_inverse = scaler_y.inverse_transform(y_test_numpy) # 0~1로 Scaling 되어 있는 것을 원래의 값으로 바꿔서 결과를 보여줌"
      ],
      "metadata": {
        "id": "ua9WwpNzqy3x"
      },
      "execution_count": 30,
      "outputs": []
    },
    {
      "cell_type": "code",
      "source": [
        "import matplotlib.pyplot as plt\n",
        "\n",
        "plt.plot(y_test_inverse, label='actual')\n",
        "plt.plot(pred_inverse, label='prediction')\n",
        "plt.grid()\n",
        "plt.legend()\n",
        "\n",
        "plt.show()"
      ],
      "metadata": {
        "colab": {
          "base_uri": "https://localhost:8080/",
          "height": 430
        },
        "id": "3CHKNGIeq-HZ",
        "outputId": "5c06e450-0675-4736-c6e6-c7fd2e5b1dc2"
      },
      "execution_count": 31,
      "outputs": [
        {
          "output_type": "display_data",
          "data": {
            "text/plain": [
              "<Figure size 640x480 with 1 Axes>"
            ],
            "image/png": "[encoded data removed]"
          },
          "metadata": {}
        }
      ]
    }
  ]
}