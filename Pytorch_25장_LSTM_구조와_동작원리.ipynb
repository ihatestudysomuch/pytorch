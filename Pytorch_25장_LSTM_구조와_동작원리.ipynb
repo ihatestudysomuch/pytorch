{
  "nbformat": 4,
  "nbformat_minor": 0,
  "metadata": {
    "colab": {
      "provenance": [],
      "authorship_tag": "ABX9TyPbDpMki7IXoh9imBWoFEB0",
      "include_colab_link": true
    },
    "kernelspec": {
      "name": "python3",
      "display_name": "Python 3"
    },
    "language_info": {
      "name": "python"
    }
  },
  "cells": [
    {
      "cell_type": "markdown",
      "metadata": {
        "id": "view-in-github",
        "colab_type": "text"
      },
      "source": [
        "<a href=\"https://colab.research.google.com/github/ihatestudysomuch/pytorch/blob/main/Pytorch_25%EC%9E%A5_LSTM_%EA%B5%AC%EC%A1%B0%EC%99%80_%EB%8F%99%EC%9E%91%EC%9B%90%EB%A6%AC.ipynb\" target=\"_parent\"><img src=\"https://colab.research.google.com/assets/colab-badge.svg\" alt=\"Open In Colab\"/></a>"
      ]
    },
    {
      "cell_type": "markdown",
      "source": [
        "## Simple RNN의 문제점\n",
        "1. 장기 의존성 문제로 입력 데이터가 많을 수록 RNN은 은닉층에서 보관하는 과거 정보가 마지막 layer까지 전달되지 못하는 현상이 발생한다.\n",
        "1. 이런 문제를 해결하기 위해 SimpleRNN의 변형 구조인 LSTM이 등장한다.\n"
      ],
      "metadata": {
        "id": "BWLuEXR5J-DG"
      }
    },
    {
      "cell_type": "markdown",
      "source": [
        "## LSTM\n",
        "\n",
        "1. LSTM은 SimpleRNN의 장기 의존성 문제를 해결하기 위한 RNN 구조이다.\n",
        "1. 장기 의존성 해결을 위해 LSTM layer 사이에서 셀 상태(cell state) C라는 변수가 추가적으로 공유된다.\n",
        "1. 이 셀 상태 C변수가 다음 layer로 전달되면서 기존의 상태를 보존하기 때문에 장기 의존성 문제를 해결 할 수 있는 것이다. 즉, 핵심은 이전 단계 정보를 memory cell에 저장하여 다음 단계로 전달하는 것이다."
      ],
      "metadata": {
        "id": "9X_Wm-eBJ-Av"
      }
    },
    {
      "cell_type": "markdown",
      "source": [
        "## LSTM 구조\n",
        "1. 현재 시점의 정보를 바탕으로 과거의 정보를 얼마나 잊을지, 기억할지 등을 계산하고 그 결과를 현재 정보에 추가해서 다음 시점으로 정보를 전달한다.\n",
        "1. 위와 같은 기능 구현을 위해서 forget, input, output gate등으로 구성되며 gate들은 moemory cell에 정보를 저장하고 다음 단계로 전달하는 역할을 수행한다.\n",
        "  - forget gate는 과거의 정보를 얼마나 잊을지 결정하는 gate로 현재 데이터 Xt, 은닉층 값 Ht-1, 가중치 Wf, Uf에서 Ft = sigmoid(UfXt + WfHt-1 + bf)로 sigmoid 함수를 사용하여 계산값이 1에 가깝다면 과거의 정보를 많이 활용한다는 의미고 0에 가깝다면 현재 정보를 많이 사용한다는 의미로 정보의 유실 유무를 결정한다.\n",
        "  - input gate는 sigmoid 함수로 어떤 정보(It)를 업데이트 할지 결정하고 tanh 함수를 사용하여 현재 시점의 새로운 정보(Ct)를 생성한다. 즉, 현 시점에서 갖고 있는 정보들이 얼마나 중요한지를 반영하여 cell에 기록한다.\n",
        "  - output gate는 forget, input gate에 의해 변경된 현재 시점의 memory cell state 값을 얼마나 빼내서 다음 layer로 전달할지 결정한다.\n",
        "1. cell state는 forget, input gate의 F, C, I값을 이용하여 memory cell에 저장하는 단계이다."
      ],
      "metadata": {
        "id": "XQTCTO73Nxbz"
      }
    },
    {
      "cell_type": "code",
      "source": [],
      "metadata": {
        "id": "K9ROvHDBc7JM"
      },
      "execution_count": null,
      "outputs": []
    },
    {
      "cell_type": "code",
      "source": [],
      "metadata": {
        "id": "jPuEziHmQMCK"
      },
      "execution_count": null,
      "outputs": []
    }
  ]
}