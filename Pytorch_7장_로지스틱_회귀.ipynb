{
  "nbformat": 4,
  "nbformat_minor": 0,
  "metadata": {
    "colab": {
      "provenance": [],
      "authorship_tag": "ABX9TyPbRb8cv15Zv0OPucepURFB",
      "include_colab_link": true
    },
    "kernelspec": {
      "name": "python3",
      "display_name": "Python 3"
    },
    "language_info": {
      "name": "python"
    }
  },
  "cells": [
    {
      "cell_type": "markdown",
      "metadata": {
        "id": "view-in-github",
        "colab_type": "text"
      },
      "source": [
        "<a href=\"https://colab.research.google.com/github/ihatestudysomuch/pytorch/blob/main/Pytorch_7%EC%9E%A5_%EB%A1%9C%EC%A7%80%EC%8A%A4%ED%8B%B1_%ED%9A%8C%EA%B7%80.ipynb\" target=\"_parent\"><img src=\"https://colab.research.google.com/assets/colab-badge.svg\" alt=\"Open In Colab\"/></a>"
      ]
    },
    {
      "cell_type": "markdown",
      "source": [
        "# 로지스틱 회귀(Logistic Regression)"
      ],
      "metadata": {
        "id": "xr6rBcwe3FyA"
      }
    },
    {
      "cell_type": "markdown",
      "source": [
        "## 분류(Classification)\n",
        "\n",
        "\n",
        "1.   Traning Data 특성과 관계 등을 파악해 미지의 입력 데이터에 대해서 어떤 결과과 어떤 종류의 값으로 분류 될 수 있는지를 예측\n",
        "\n",
        "1.   예시로 스팸문자 분류[Spam(1) or Ham(0)], 암 판별[암(1) or 암 아님(0)]\n",
        "-> 선형회귀로 출력값과 정답값의 차이를 좁히는 것이 아닌 1 or 0, Pass or Fail\n",
        "\n",
        "\n"
      ],
      "metadata": {
        "id": "q9F3KOP23F15"
      }
    },
    {
      "cell_type": "markdown",
      "source": [
        "## 로지스틱 회귀 알고리즘(Logistic Regression Algorithm)\n",
        "\n",
        "1.   Traning Data 특성과 분포를 나타내느 최적의 직선을 찾음(Liear Regression, 선형회귀)\n",
        "2.   그 직선을 기준으로 데이터를 1 or 0으로 분류(Classification) 해줌\n",
        "-> Linear Regression +  Classification\n",
        "\n",
        "\n",
        "1.   Logistic Regression Algorithm은 Classification Algorithm 중에서 정확도가 높기로 유명하여 기본 Component로 사용\n",
        "\n",
        "\n",
        "\n",
        "1.   출력함수가 1 or 0을 가지는 sigmoid 함수를 사용\n",
        "2.   y = 1 if sigmoid(z) > 0.5 else 0 처럼 나타낼 수 있음\n",
        "\n",
        "1.   최종 출력값 y에 의하여 1 or 0을 출력값으로 가지기 떄문에 Linead Regression과 다른 손실함수인 cross-empty 손실함수를 사용\n",
        "2.   손실함수의 최솟값의 W, b를 구하는 것은 같은 맥락\n",
        "\n",
        "\n",
        "\n",
        "\n"
      ],
      "metadata": {
        "id": "OSj1ocyG3F4C"
      }
    }
  ]
}