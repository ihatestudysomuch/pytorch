{
  "nbformat": 4,
  "nbformat_minor": 0,
  "metadata": {
    "colab": {
      "provenance": [],
      "mount_file_id": "1r9DmcFKC0MSP3w4iuyDOqXVjZTzDk1Ya",
      "authorship_tag": "ABX9TyOPot0oC5H+6YoK2wnznb0N",
      "include_colab_link": true
    },
    "kernelspec": {
      "name": "python3",
      "display_name": "Python 3"
    },
    "language_info": {
      "name": "python"
    }
  },
  "cells": [
    {
      "cell_type": "markdown",
      "metadata": {
        "id": "view-in-github",
        "colab_type": "text"
      },
      "source": [
        "<a href=\"https://colab.research.google.com/github/ihatestudysomuch/pytorch/blob/main/Pytorch_8%EC%9E%A5_%EB%A1%9C%EC%A7%80%EC%8A%A4%ED%8B%B1_%ED%9A%8C%EA%B7%80_%EC%98%88%EC%A0%9C.ipynb\" target=\"_parent\"><img src=\"https://colab.research.google.com/assets/colab-badge.svg\" alt=\"Open In Colab\"/></a>"
      ]
    },
    {
      "cell_type": "markdown",
      "source": [
        "# 로지스틱 회귀 예제(Logistic Regresstion example)\n",
        "\n"
      ],
      "metadata": {
        "id": "0Fa3kwyu_yXF"
      }
    },
    {
      "cell_type": "code",
      "source": [],
      "metadata": {
        "id": "FB655bFnBG3C"
      },
      "execution_count": null,
      "outputs": []
    },
    {
      "cell_type": "code",
      "source": [
        "from google.colab import drive\n",
        "drive.mount('/content/drive')"
      ],
      "metadata": {
        "colab": {
          "base_uri": "https://localhost:8080/"
        },
        "id": "nycbopgrBJIz",
        "outputId": "eab141dc-e00c-4a11-fade-acdda41fa7b1"
      },
      "execution_count": 1,
      "outputs": [
        {
          "output_type": "stream",
          "name": "stdout",
          "text": [
            "Mounted at /content/drive\n"
          ]
        }
      ]
    },
    {
      "cell_type": "code",
      "source": [
        "import numpy as np\n",
        "\n",
        "loaded_data = np.loadtxt('/content/drive/MyDrive/pytorch/PyTorch/diabetes.csv', delimiter = ',')\n",
        "\n",
        "x_train_np = loaded_data[:, 0:-1]\n",
        "y_train_np = loaded_data[:, [-1]]\n",
        "\n",
        "print(loaded_data.shape)\n",
        "print(x_train_np.shape)\n",
        "print(y_train_np.shape)\n"
      ],
      "metadata": {
        "colab": {
          "base_uri": "https://localhost:8080/"
        },
        "id": "S9thTjhUBZB8",
        "outputId": "9747ac23-cfa5-47e8-916f-14c0cdced3d7"
      },
      "execution_count": 4,
      "outputs": [
        {
          "output_type": "stream",
          "name": "stdout",
          "text": [
            "(759, 9)\n",
            "(759, 8)\n",
            "(759, 1)\n"
          ]
        }
      ]
    },
    {
      "cell_type": "markdown",
      "source": [
        "## 데이터 생성"
      ],
      "metadata": {
        "id": "WBt6LvduC4s1"
      }
    },
    {
      "cell_type": "code",
      "source": [
        "import torch\n",
        "from torch import nn\n",
        "from torch import optim\n",
        "\n",
        "x_train = torch.Tensor(x_train_np)\n",
        "y_train = torch.Tensor(y_train_np)\n",
        "\n",
        "'''\n",
        "print(x_train)\n",
        "print(y_train)\n",
        "'''"
      ],
      "metadata": {
        "colab": {
          "base_uri": "https://localhost:8080/",
          "height": 36
        },
        "id": "eOuATK1RCMlu",
        "outputId": "e49e1663-d0b9-4773-ef82-b41ed97832b1"
      },
      "execution_count": 14,
      "outputs": [
        {
          "output_type": "execute_result",
          "data": {
            "text/plain": [
              "'\\nprint(x_train)\\nprint(y_train)\\n'"
            ],
            "application/vnd.google.colaboratory.intrinsic+json": {
              "type": "string"
            }
          },
          "metadata": {},
          "execution_count": 14
        }
      ]
    },
    {
      "cell_type": "markdown",
      "source": [
        "## 모델"
      ],
      "metadata": {
        "id": "uGNcFMylC7Cz"
      }
    },
    {
      "cell_type": "code",
      "source": [
        "class MyLogisticRegressionModel(nn.Module):\n",
        "\n",
        "  def __init__(self):\n",
        "    super().__init__()\n",
        "\n",
        "    self.logistic_stack = nn.Sequential(\n",
        "        nn.Linear(8, 1), # X * W + b 수행\n",
        "        nn.Sigmoid() # sigmooid 수행\n",
        "    )\n",
        "\n",
        "  # 피드 포워드\n",
        "  def forward(self, data):\n",
        "    return self.logistic_stack(data)"
      ],
      "metadata": {
        "id": "xQWqFghdC-QD"
      },
      "execution_count": 15,
      "outputs": []
    },
    {
      "cell_type": "code",
      "source": [
        "model = MyLogisticRegressionModel()\n",
        "\n",
        "for p in model.parameters():\n",
        "  print(p) # W, b 확인, 다시 말하지만 W는 목표에 다가가도록 하고 b는 0에 수렴하도록 해야함\n"
      ],
      "metadata": {
        "colab": {
          "base_uri": "https://localhost:8080/"
        },
        "id": "Sbe0U8A2DV4r",
        "outputId": "4a45df7e-30f2-4485-9f91-7df7cfa7eb95"
      },
      "execution_count": 10,
      "outputs": [
        {
          "output_type": "stream",
          "name": "stdout",
          "text": [
            "Parameter containing:\n",
            "tensor([[-0.0890, -0.0328, -0.0279,  0.1437, -0.2543,  0.2127,  0.0419,  0.1483]],\n",
            "       requires_grad=True)\n",
            "Parameter containing:\n",
            "tensor([0.3391], requires_grad=True)\n"
          ]
        }
      ]
    },
    {
      "cell_type": "markdown",
      "source": [
        "실행 결과로 W, b 확인"
      ],
      "metadata": {
        "id": "Xrlhepf7DkW8"
      }
    },
    {
      "cell_type": "markdown",
      "source": [
        "## 손실함수 및 옵티마이저"
      ],
      "metadata": {
        "id": "zwAl3fkgDuqV"
      }
    },
    {
      "cell_type": "code",
      "source": [
        "loss_function = nn.BCELoss() # Logistic Regression, Binary Cross Entropy를 손실함수로 사용\n",
        "optimizer = torch.optim.SGD(model.parameters(), lr = 0.01) # 경사하강법의 옵티마이저\n"
      ],
      "metadata": {
        "id": "3lw3V-7WCT8A"
      },
      "execution_count": 17,
      "outputs": []
    },
    {
      "cell_type": "code",
      "source": [
        "train_loss_list = []\n",
        "train_accuracy_list = []\n",
        "\n",
        "# 5000번의 학습\n",
        "for epoch in range(5001):\n",
        "  outputs = model(x_train) # 예측값, forward() 자동 호출\n",
        "  loss = loss_function(outputs, y_train) # 예측값과 정답값의 차이인 오차 계산\n",
        "\n",
        "  train_loss_list.append(loss.item())\n",
        "\n",
        "  prediction = outputs > 0.5 # 예측값 True if output > 0.5  else Flase\n",
        "  correct = (prediction.float() == y_train)\n",
        "  accuracy = prediction.sum().item() / len(correct)\n",
        "\n",
        "  train_accuracy_list.append(accuracy)\n",
        "\n",
        "  # 역전파 W, b 최적화\n",
        "  optimizer.zero_grad()\n",
        "  loss.backward()\n",
        "  optimizer.step()\n",
        "\n",
        "  if epoch % 100 == 0:\n",
        "    print('Epoch == ', epoch, 'Loss == ', loss.item(), 'accuracy == ', accuracy )"
      ],
      "metadata": {
        "colab": {
          "base_uri": "https://localhost:8080/"
        },
        "id": "GvldDAbSEZoo",
        "outputId": "9ae377cc-9046-4aed-f110-f9e5bb36d6f4"
      },
      "execution_count": 27,
      "outputs": [
        {
          "output_type": "stream",
          "name": "stdout",
          "text": [
            "Epoch ==  0 Loss ==  0.47317996621131897 accuracy ==  0.7364953886693018\n",
            "Epoch ==  100 Loss ==  0.4731660783290863 accuracy ==  0.7364953886693018\n",
            "Epoch ==  200 Loss ==  0.4731524586677551 accuracy ==  0.7364953886693018\n",
            "Epoch ==  300 Loss ==  0.4731389880180359 accuracy ==  0.7364953886693018\n",
            "Epoch ==  400 Loss ==  0.4731256067752838 accuracy ==  0.7364953886693018\n",
            "Epoch ==  500 Loss ==  0.47311240434646606 accuracy ==  0.7364953886693018\n",
            "Epoch ==  600 Loss ==  0.47309938073158264 accuracy ==  0.7364953886693018\n",
            "Epoch ==  700 Loss ==  0.47308647632598877 accuracy ==  0.7364953886693018\n",
            "Epoch ==  800 Loss ==  0.47307372093200684 accuracy ==  0.7364953886693018\n",
            "Epoch ==  900 Loss ==  0.47306111454963684 accuracy ==  0.7364953886693018\n",
            "Epoch ==  1000 Loss ==  0.47304868698120117 accuracy ==  0.7364953886693018\n",
            "Epoch ==  1100 Loss ==  0.4730362892150879 accuracy ==  0.7364953886693018\n",
            "Epoch ==  1200 Loss ==  0.4730241894721985 accuracy ==  0.7364953886693018\n",
            "Epoch ==  1300 Loss ==  0.4730120897293091 accuracy ==  0.7364953886693018\n",
            "Epoch ==  1400 Loss ==  0.4730001986026764 accuracy ==  0.7364953886693018\n",
            "Epoch ==  1500 Loss ==  0.47298845648765564 accuracy ==  0.7364953886693018\n",
            "Epoch ==  1600 Loss ==  0.4729767143726349 accuracy ==  0.7364953886693018\n",
            "Epoch ==  1700 Loss ==  0.47296521067619324 accuracy ==  0.7364953886693018\n",
            "Epoch ==  1800 Loss ==  0.47295382618904114 accuracy ==  0.7364953886693018\n",
            "Epoch ==  1900 Loss ==  0.4729425609111786 accuracy ==  0.7364953886693018\n",
            "Epoch ==  2000 Loss ==  0.472931444644928 accuracy ==  0.7364953886693018\n",
            "Epoch ==  2100 Loss ==  0.47292041778564453 accuracy ==  0.7364953886693018\n",
            "Epoch ==  2200 Loss ==  0.47290948033332825 accuracy ==  0.7364953886693018\n",
            "Epoch ==  2300 Loss ==  0.4728986620903015 accuracy ==  0.7364953886693018\n",
            "Epoch ==  2400 Loss ==  0.47288796305656433 accuracy ==  0.7364953886693018\n",
            "Epoch ==  2500 Loss ==  0.4728773832321167 accuracy ==  0.7364953886693018\n",
            "Epoch ==  2600 Loss ==  0.472866952419281 accuracy ==  0.7364953886693018\n",
            "Epoch ==  2700 Loss ==  0.4728566110134125 accuracy ==  0.7364953886693018\n",
            "Epoch ==  2800 Loss ==  0.4728463590145111 accuracy ==  0.7364953886693018\n",
            "Epoch ==  2900 Loss ==  0.4728362560272217 accuracy ==  0.7364953886693018\n",
            "Epoch ==  3000 Loss ==  0.4728262424468994 accuracy ==  0.7364953886693018\n",
            "Epoch ==  3100 Loss ==  0.4728162884712219 accuracy ==  0.7364953886693018\n",
            "Epoch ==  3200 Loss ==  0.47280651330947876 accuracy ==  0.7364953886693018\n",
            "Epoch ==  3300 Loss ==  0.47279682755470276 accuracy ==  0.7364953886693018\n",
            "Epoch ==  3400 Loss ==  0.4727872610092163 accuracy ==  0.7364953886693018\n",
            "Epoch ==  3500 Loss ==  0.47277766466140747 accuracy ==  0.7364953886693018\n",
            "Epoch ==  3600 Loss ==  0.47276827692985535 accuracy ==  0.7364953886693018\n",
            "Epoch ==  3700 Loss ==  0.472758948802948 accuracy ==  0.7364953886693018\n",
            "Epoch ==  3800 Loss ==  0.4727497696876526 accuracy ==  0.7364953886693018\n",
            "Epoch ==  3900 Loss ==  0.47274062037467957 accuracy ==  0.7364953886693018\n",
            "Epoch ==  4000 Loss ==  0.4727315902709961 accuracy ==  0.7364953886693018\n",
            "Epoch ==  4100 Loss ==  0.472722589969635 accuracy ==  0.7364953886693018\n",
            "Epoch ==  4200 Loss ==  0.472713828086853 accuracy ==  0.7364953886693018\n",
            "Epoch ==  4300 Loss ==  0.4727049767971039 accuracy ==  0.7364953886693018\n",
            "Epoch ==  4400 Loss ==  0.47269633412361145 accuracy ==  0.7364953886693018\n",
            "Epoch ==  4500 Loss ==  0.472687691450119 accuracy ==  0.7364953886693018\n",
            "Epoch ==  4600 Loss ==  0.4726791977882385 accuracy ==  0.7364953886693018\n",
            "Epoch ==  4700 Loss ==  0.4726707637310028 accuracy ==  0.7364953886693018\n",
            "Epoch ==  4800 Loss ==  0.47266247868537903 accuracy ==  0.7364953886693018\n",
            "Epoch ==  4900 Loss ==  0.47265419363975525 accuracy ==  0.7364953886693018\n",
            "Epoch ==  5000 Loss ==  0.472646027803421 accuracy ==  0.7364953886693018\n"
          ]
        }
      ]
    },
    {
      "cell_type": "code",
      "source": [
        "# W, b\n",
        "for name, child in model.named_children():\n",
        "    for param in child.parameters():\n",
        "        print(name, param)"
      ],
      "metadata": {
        "colab": {
          "base_uri": "https://localhost:8080/"
        },
        "id": "uvc6GXZMGId5",
        "outputId": "6eef8587-d9a9-4f52-ef6e-12175d8a658a"
      },
      "execution_count": 28,
      "outputs": [
        {
          "output_type": "stream",
          "name": "stdout",
          "text": [
            "logistic_stack Parameter containing:\n",
            "tensor([[-0.8838, -3.4826,  0.0635, -0.5948, -0.3259, -2.1603, -0.9899, -0.0395]],\n",
            "       requires_grad=True)\n",
            "logistic_stack Parameter containing:\n",
            "tensor([0.2140], requires_grad=True)\n"
          ]
        }
      ]
    },
    {
      "cell_type": "code",
      "source": [
        "import matplotlib.pyplot as plt\n",
        "\n",
        "plt.title('Loss Trend')\n",
        "plt.xlabel('epochs')\n",
        "plt.ylabel('loss')\n",
        "plt.grid()\n",
        "\n",
        "plt.plot(train_loss_list, label='train loss')\n",
        "plt.legend(loc='best')\n",
        "\n",
        "plt.show()"
      ],
      "metadata": {
        "colab": {
          "base_uri": "https://localhost:8080/",
          "height": 472
        },
        "id": "cSHyX86rGeSs",
        "outputId": "56368d0e-493e-4571-e98e-885a844d3167"
      },
      "execution_count": 29,
      "outputs": [
        {
          "output_type": "display_data",
          "data": {
            "text/plain": [
              "<Figure size 640x480 with 1 Axes>"
            ],
            "image/png": "[encoded data removed]"
          },
          "metadata": {}
        }
      ]
    },
    {
      "cell_type": "code",
      "source": [
        "import matplotlib.pyplot as plt\n",
        "\n",
        "plt.title('Accuracy Trend')\n",
        "plt.xlabel('epochs')\n",
        "plt.ylabel('accuracy')\n",
        "plt.grid()\n",
        "\n",
        "plt.plot(train_accuracy_list, label='train accuracy')\n",
        "plt.legend(loc='best')\n",
        "\n",
        "plt.show()"
      ],
      "metadata": {
        "colab": {
          "base_uri": "https://localhost:8080/",
          "height": 472
        },
        "id": "Alu3siPCGflW",
        "outputId": "a6afc389-df1e-415f-e505-7a3aa9929056"
      },
      "execution_count": 30,
      "outputs": [
        {
          "output_type": "display_data",
          "data": {
            "text/plain": [
              "<Figure size 640x480 with 1 Axes>"
            ],
            "image/png": "[encoded data removed]"
          },
          "metadata": {}
        }
      ]
    },
    {
      "cell_type": "markdown",
      "source": [
        "너무 많이 실행해서 그래프가 이상해져버럼"
      ],
      "metadata": {
        "id": "GjU-5JB7Hy3T"
      }
    }
  ]
}