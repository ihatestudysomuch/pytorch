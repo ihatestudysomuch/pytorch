{
  "nbformat": 4,
  "nbformat_minor": 0,
  "metadata": {
    "colab": {
      "provenance": [],
      "authorship_tag": "ABX9TyNLbZZO0RTTfNk1UdoMFAbk",
      "include_colab_link": true
    },
    "kernelspec": {
      "name": "python3",
      "display_name": "Python 3"
    },
    "language_info": {
      "name": "python"
    }
  },
  "cells": [
    {
      "cell_type": "markdown",
      "metadata": {
        "id": "view-in-github",
        "colab_type": "text"
      },
      "source": [
        "<a href=\"https://colab.research.google.com/github/ihatestudysomuch/pytorch/blob/main/Pytorch_22%EC%9E%A5_RNN%EC%9D%98_%EA%B0%9C%EB%85%90%EA%B3%BC_%EB%8F%99%EC%9E%91%EC%9B%90%EB%A6%AC.ipynb\" target=\"_parent\"><img src=\"https://colab.research.google.com/assets/colab-badge.svg\" alt=\"Open In Colab\"/></a>"
      ]
    },
    {
      "cell_type": "markdown",
      "source": [
        "# RNN(Recurrent Neural Network)\n",
        "\n",
        "\n",
        "\n",
        "1.   은닉층의 출력값이 내부적으로 순환 구조를 가지는 신경망\n",
        "\n",
        "1.   시계열 데이터, 이미지 시퀀스, 자연어의 단어 시퀀스, 문장 시퀀스처럼 시간에 따라 변하면서, 과거와 현재가 서로 연관성을 가지는 데이터를 분석하고 미래 값을 예측하는데 강점을 가진 신경망\n",
        "1.   일반 신경망과는 다르게 은닉층에서 연산을 수행한 후, 은닉층의 값을 출력층 방향으로 보내면서 동시에 다시 은닉층의 입력으로 보내는 순환 구조(Recurrent)\n",
        "  - 일반 피드 포워드 신경망은 은닉층에서의 출력값을 출력층으로만 전달함\n",
        "1.   RNN 모델에서 이러한 은닉층을 셀(cell)이라 하는데 이 cell은 은닉층의 출력값을 기억하고 있는 일종의 memory 역할을 수행하므로 memory cell이라 한다.\n",
        "1. t-1번 째 data에서 은닉층의 출력값을 t번 째 data의 은닉층으로 .. 하는 재귀적 구조를 가지고 있으며, 이 때 그 값을 은닉 상태라고 한다.\n",
        "1. RNN 모델의 사용 예시로 시계열 데이터 예측(주식 가격 예측), 자연어 처리(단어 예측, 문장 번역 .. )이 있다.\n",
        "  - 주식 가격 예측의 경우 n일 간의 주식 가격 data에 RNN 모델에 순차적으로 입력하면 n-1일차의 은닉층의 데이터는 n일차의 data에 영향을 주는 재귀적 방식으로 n+1일차의 주식 가격을 예측한다.\n",
        "  - 자연어 처리의 경우 I, go, to 단어를 RNN 모델에 순차적으로 입력시킨 후 마지막 단어를 예측(school, home ..)해서 문장을 완성 시킨다.  \n",
        "\n",
        "\n"
      ],
      "metadata": {
        "id": "e4MnoMAuXDZG"
      }
    },
    {
      "cell_type": "code",
      "source": [],
      "metadata": {
        "id": "LA28E5i1haaM"
      },
      "execution_count": null,
      "outputs": []
    },
    {
      "cell_type": "markdown",
      "source": [],
      "metadata": {
        "id": "r-eqMyd1XDbq"
      }
    },
    {
      "cell_type": "markdown",
      "source": [],
      "metadata": {
        "id": "wh5kZQJWXDdn"
      }
    }
  ]
}