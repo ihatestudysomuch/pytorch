{
  "nbformat": 4,
  "nbformat_minor": 0,
  "metadata": {
    "colab": {
      "provenance": [],
      "mount_file_id": "19TyDcS9wabHbD1YZZsjCEAN1DlsEQkXK",
      "authorship_tag": "ABX9TyMjl0fFJestUXwU3AieY3mp",
      "include_colab_link": true
    },
    "kernelspec": {
      "name": "python3",
      "display_name": "Python 3"
    },
    "language_info": {
      "name": "python"
    }
  },
  "cells": [
    {
      "cell_type": "markdown",
      "metadata": {
        "id": "view-in-github",
        "colab_type": "text"
      },
      "source": [
        "<a href=\"https://colab.research.google.com/github/ihatestudysomuch/pytorch/blob/main/Pytorch_6%EC%9E%A5_%EB%8B%A4%EC%A4%91%EC%84%A0%ED%98%95%ED%9A%8C%EA%B7%80.ipynb\" target=\"_parent\"><img src=\"https://colab.research.google.com/assets/colab-badge.svg\" alt=\"Open In Colab\"/></a>"
      ]
    },
    {
      "cell_type": "markdown",
      "source": [
        "# 다중선형회귀 에제\n",
        "\n",
        "\n",
        "-   앞서 말한 선형회귀 방법으로 pytorch 모델 구축\n",
        "\n"
      ],
      "metadata": {
        "id": "eZQD-WRNZBEn"
      }
    },
    {
      "cell_type": "code",
      "source": [
        "from google.colab import drive\n",
        "drive.mount('/content/drive')\n"
      ],
      "metadata": {
        "colab": {
          "base_uri": "https://localhost:8080/"
        },
        "id": "zePfSKIGnolE",
        "outputId": "0cf026cc-6ccf-43b4-8479-8e1dae3ce589"
      },
      "execution_count": 5,
      "outputs": [
        {
          "output_type": "stream",
          "name": "stdout",
          "text": [
            "Drive already mounted at /content/drive; to attempt to forcibly remount, call drive.mount(\"/content/drive\", force_remount=True).\n"
          ]
        }
      ]
    },
    {
      "cell_type": "code",
      "source": [
        "import numpy as np\n",
        "\n",
        "loaded_data = np.loadtxt('/content/drive/MyDrive/pytorch/PyTorch/LEC06_TrainData.csv', delimiter=',')\n",
        "\n",
        "x_train_np = loaded_data[ : , 0:-1]\n",
        "\n",
        "y_train_np = loaded_data[ : , [-1]]\n",
        "\n",
        "print(loaded_data[:3])\n",
        "print('========================')\n",
        "print(x_train_np[:3])\n",
        "print('========================')\n",
        "print(y_train_np[:3])"
      ],
      "metadata": {
        "id": "U8J-YKG5Z9lK",
        "outputId": "70cddc53-a4c0-450f-8464-bcac841b2dee",
        "colab": {
          "base_uri": "https://localhost:8080/"
        }
      },
      "execution_count": 6,
      "outputs": [
        {
          "output_type": "stream",
          "name": "stdout",
          "text": [
            "[[ 1.  2.  0. -4.]\n",
            " [ 5.  4.  3.  4.]\n",
            " [ 1.  2. -1. -6.]]\n",
            "========================\n",
            "[[ 1.  2.  0.]\n",
            " [ 5.  4.  3.]\n",
            " [ 1.  2. -1.]]\n",
            "========================\n",
            "[[-4.]\n",
            " [ 4.]\n",
            " [-6.]]\n"
          ]
        }
      ]
    },
    {
      "cell_type": "code",
      "source": [
        "import torch\n",
        "from torch import nn\n",
        "\n",
        "x_train = torch.Tensor(x_train_np)\n",
        "y_train = torch.Tensor(y_train_np)\n",
        "\n",
        "print(x_train)\n",
        "print(y_train)"
      ],
      "metadata": {
        "colab": {
          "base_uri": "https://localhost:8080/"
        },
        "id": "chd-IOX-w-Zh",
        "outputId": "e1e2aebd-ff41-4bd7-f226-0a5150bee7b6"
      },
      "execution_count": 8,
      "outputs": [
        {
          "output_type": "stream",
          "name": "stdout",
          "text": [
            "tensor([[ 1.,  2.,  0.],\n",
            "        [ 5.,  4.,  3.],\n",
            "        [ 1.,  2., -1.],\n",
            "        [ 3.,  1.,  0.],\n",
            "        [ 2.,  4.,  2.],\n",
            "        [ 4.,  1.,  2.],\n",
            "        [-1.,  3.,  2.],\n",
            "        [ 4.,  3.,  3.],\n",
            "        [ 0.,  2.,  6.],\n",
            "        [ 2.,  2.,  1.],\n",
            "        [ 1., -2., -2.],\n",
            "        [ 0.,  1.,  3.],\n",
            "        [ 1.,  1.,  3.],\n",
            "        [ 0.,  1.,  4.],\n",
            "        [ 2.,  3.,  3.]])\n",
            "tensor([[-4.],\n",
            "        [ 4.],\n",
            "        [-6.],\n",
            "        [ 3.],\n",
            "        [-4.],\n",
            "        [ 9.],\n",
            "        [-7.],\n",
            "        [ 5.],\n",
            "        [ 6.],\n",
            "        [ 0.],\n",
            "        [ 4.],\n",
            "        [ 3.],\n",
            "        [ 5.],\n",
            "        [ 5.],\n",
            "        [ 1.]])\n"
          ]
        }
      ]
    },
    {
      "cell_type": "markdown",
      "source": [
        "# 신경망 모델 구축"
      ],
      "metadata": {
        "id": "bU03RUVYxLLN"
      }
    },
    {
      "cell_type": "code",
      "source": [
        "from torch import nn\n",
        "\n",
        "class MyLinearRegressionModel(nn.Module):\n",
        "\n",
        "    def __init__(self, input_nodes):\n",
        "        super().__init__()\n",
        "        self.linear_stack = nn.Sequential(\n",
        "            nn.Linear(input_nodes, 1) # nn.Linear 계층의 입력 노드 갯수, 출력 데이터 갯수 -> (inputn_nodes, 1)\n",
        "        )\n",
        "\n",
        "    # 피드 포워드\n",
        "    def forward(self, data):\n",
        "        prediction = self.linear_stack(data)\n",
        "\n",
        "        return prediction"
      ],
      "metadata": {
        "id": "r26jzZhJxMXg"
      },
      "execution_count": 12,
      "outputs": []
    },
    {
      "cell_type": "code",
      "source": [
        "model = MyLinearRegressionModel(3) # 여기서 입력 데이터 3개인 선형회귀 모델 생성\n",
        "\n",
        "for name, child in model.named_children():\n",
        "    for param in child.parameters():\n",
        "        print(name, param)   # 가중치 W, 바이어스 b 확인"
      ],
      "metadata": {
        "colab": {
          "base_uri": "https://localhost:8080/"
        },
        "id": "S5i19NGsxgPn",
        "outputId": "e49bb37f-8128-43c3-c618-a84e11e07549"
      },
      "execution_count": 13,
      "outputs": [
        {
          "output_type": "stream",
          "name": "stdout",
          "text": [
            "linear_stack Parameter containing:\n",
            "tensor([[-0.5013, -0.4936,  0.2963]], requires_grad=True)\n",
            "linear_stack Parameter containing:\n",
            "tensor([-0.0519], requires_grad=True)\n"
          ]
        }
      ]
    },
    {
      "cell_type": "markdown",
      "source": [
        "# 손실함수 및 옵티마이저 정의"
      ],
      "metadata": {
        "id": "vu8MhoNJzls9"
      }
    },
    {
      "cell_type": "code",
      "source": [
        "loss_function = nn.MSELoss() # 선형회귀이기 때문에 MSELoss 사용\n",
        "optimizer = torch.optim.SGD(model.parameters(), lr=0.01) # SGD(확률적 경사 하강법) 사용"
      ],
      "metadata": {
        "id": "4p0yCPkBxf-B"
      },
      "execution_count": 15,
      "outputs": []
    },
    {
      "cell_type": "code",
      "source": [
        "loss_list = []\n",
        "\n",
        "# 2000번 학습\n",
        "for epoch in range(2001):\n",
        "    # prediction 즉, 학습 하는 과정에서 forward() 함수 자동 호출\n",
        "    prediction = model(x_train)\n",
        "    # 선형회귀 모델의 예측값(x_train으로 학습한 prediction)과 정답과의 오차 계산\n",
        "    loss = loss_function(prediction, y_train)\n",
        "\n",
        "    # 역전파(backpropagation)\n",
        "    optimizer.zero_grad()\n",
        "    loss.backward()\n",
        "    optimizer.step()\n",
        "\n",
        "    if epoch % 100 == 0:\n",
        "        print(f'Epoch : {epoch}, Loss : {loss.item()}')\n",
        ""
      ],
      "metadata": {
        "colab": {
          "base_uri": "https://localhost:8080/"
        },
        "id": "jsC_hXBcy4MB",
        "outputId": "62374101-d537-4bc5-a91a-4852e929444f"
      },
      "execution_count": 16,
      "outputs": [
        {
          "output_type": "stream",
          "name": "stdout",
          "text": [
            "Epoch : 0, Loss : 29.273530960083008\n",
            "Epoch : 100, Loss : 0.13605180382728577\n",
            "Epoch : 200, Loss : 0.0014289248501881957\n",
            "Epoch : 300, Loss : 0.00013353940448723733\n",
            "Epoch : 400, Loss : 4.237889152136631e-05\n",
            "Epoch : 500, Loss : 1.4298474525276106e-05\n",
            "Epoch : 600, Loss : 4.8308406803698745e-06\n",
            "Epoch : 700, Loss : 1.6324976286341553e-06\n",
            "Epoch : 800, Loss : 5.522173864846991e-07\n",
            "Epoch : 900, Loss : 1.8683000746477774e-07\n",
            "Epoch : 1000, Loss : 6.331328705755368e-08\n",
            "Epoch : 1100, Loss : 2.148900435372525e-08\n",
            "Epoch : 1200, Loss : 7.287266790001468e-09\n",
            "Epoch : 1300, Loss : 2.487514860760598e-09\n",
            "Epoch : 1400, Loss : 8.670537066102213e-10\n",
            "Epoch : 1500, Loss : 3.1344910000896675e-10\n",
            "Epoch : 1600, Loss : 1.283201184199001e-10\n",
            "Epoch : 1700, Loss : 6.114408285240458e-11\n",
            "Epoch : 1800, Loss : 3.608445486857903e-11\n",
            "Epoch : 1900, Loss : 2.131352559719968e-11\n",
            "Epoch : 2000, Loss : 1.9995496577940308e-11\n"
          ]
        }
      ]
    },
    {
      "cell_type": "markdown",
      "source": [
        "실행 결과를 보면 알다시피 epoch 즉, 반복이 많이 될수록 Loss가 0에 수렴함"
      ],
      "metadata": {
        "id": "3Ij8jFAbzZAe"
      }
    },
    {
      "cell_type": "code",
      "source": [
        "for name, child in model.named_children():\n",
        "    for param in child.parameters():\n",
        "        print(name, param)"
      ],
      "metadata": {
        "colab": {
          "base_uri": "https://localhost:8080/"
        },
        "id": "9PX6JIjzztdG",
        "outputId": "6372af77-b45b-42c4-ab99-961a173a760f"
      },
      "execution_count": 17,
      "outputs": [
        {
          "output_type": "stream",
          "name": "stdout",
          "text": [
            "linear_stack Parameter containing:\n",
            "tensor([[ 2.0000, -3.0000,  2.0000]], requires_grad=True)\n",
            "linear_stack Parameter containing:\n",
            "tensor([6.3153e-06], requires_grad=True)\n"
          ]
        }
      ]
    },
    {
      "cell_type": "code",
      "source": [
        "for param in model.parameters():\n",
        "    print(param)"
      ],
      "metadata": {
        "colab": {
          "base_uri": "https://localhost:8080/"
        },
        "id": "DksLEJXrztW9",
        "outputId": "c08e2664-d8ae-40ea-d0a4-1365410e3c21"
      },
      "execution_count": 18,
      "outputs": [
        {
          "output_type": "stream",
          "name": "stdout",
          "text": [
            "Parameter containing:\n",
            "tensor([[ 2.0000, -3.0000,  2.0000]], requires_grad=True)\n",
            "Parameter containing:\n",
            "tensor([6.3153e-06], requires_grad=True)\n"
          ]
        }
      ]
    },
    {
      "cell_type": "markdown",
      "source": [
        "실행 결과를 보다시피 W(2,-3,2)에 잘 학습했고\n",
        "bias = 0을 지향하기 때문에 거의 0에 수렴함을 알 수 있음"
      ],
      "metadata": {
        "id": "1feUvPf5zzg5"
      }
    },
    {
      "cell_type": "markdown",
      "source": [
        "# test\n"
      ],
      "metadata": {
        "id": "reejTGSazolO"
      }
    },
    {
      "cell_type": "code",
      "source": [
        "x_test = torch.Tensor([ [5, 5, 0], [2, 3, 1], [-1, 0, -1], [10, 5, 2], [4, -1, -2] ])\n",
        "\n",
        "label = [ 2*data[0] -3*data[1] + 2*data[2]  for data in x_test ] # 가중치와 test data로 정답 도출\n",
        "\n",
        "pred = model(x_test) # test data로 정답과 비슷한지 확인\n",
        "\n",
        "print(pred)\n",
        "print('=============================================')\n",
        "print(label)"
      ],
      "metadata": {
        "colab": {
          "base_uri": "https://localhost:8080/"
        },
        "id": "JKnHMm-sy4KV",
        "outputId": "d5eb37c5-9c65-410a-dc41-b36d17726cad"
      },
      "execution_count": 19,
      "outputs": [
        {
          "output_type": "stream",
          "name": "stdout",
          "text": [
            "tensor([[-5.0000],\n",
            "        [-3.0000],\n",
            "        [-4.0000],\n",
            "        [ 9.0000],\n",
            "        [ 7.0000]], grad_fn=<AddmmBackward0>)\n",
            "=============================================\n",
            "[tensor(-5.), tensor(-3.), tensor(-4.), tensor(9.), tensor(7.)]\n"
          ]
        }
      ]
    },
    {
      "cell_type": "markdown",
      "source": [
        "실행 결과 예측값과 정답값이 완전 일치"
      ],
      "metadata": {
        "id": "vOuHvQgJ0n4o"
      }
    },
    {
      "cell_type": "code",
      "source": [],
      "metadata": {
        "id": "oErfUYXGy4IU"
      },
      "execution_count": null,
      "outputs": []
    },
    {
      "cell_type": "code",
      "source": [],
      "metadata": {
        "id": "7zeDIQSBy30o"
      },
      "execution_count": null,
      "outputs": []
    },
    {
      "cell_type": "code",
      "source": [],
      "metadata": {
        "id": "stMaQwEby3yf"
      },
      "execution_count": null,
      "outputs": []
    }
  ]
}