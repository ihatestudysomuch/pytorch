{
  "cells": [
    {
      "cell_type": "markdown",
      "metadata": {
        "id": "view-in-github",
        "colab_type": "text"
      },
      "source": [
        "<a href=\"https://colab.research.google.com/github/ihatestudysomuch/pytorch/blob/main/Pytorch.ipynb\" target=\"_parent\"><img src=\"https://colab.research.google.com/assets/colab-badge.svg\" alt=\"Open In Colab\"/></a>"
      ]
    },
    {
      "cell_type": "markdown",
      "source": [
        "# 신경망 구조\n",
        "- 앞서 배웠지만 딥러닝 모델에서는 3개 이상의 Hidden Layer를 중첩하고 입력값, 가중치, 바이어스, 출력값, 손실 함수 .. 로 이루어져있다.\n",
        "- 딥러닝을 위한 신경망은 데이터 연산을 수행해 출력값에서 예측값을 바탕으로 손실하기 위한 다양한 계층으로 이루어져 있는 것이다.\n",
        "- 이러한 계층을 위해 Pytorch를 사용하면 몇 줄의 간단한 코드만으로 쉽고 빠르게 구축 가능하다.\n",
        "- 데이터 정의 -> 모델 구축 -> 피드 포워드 -> 손실함수 계산 -> 옵티마이저\n",
        "\n"
      ],
      "metadata": {
        "id": "OuzZfJNOlqHe"
      }
    },
    {
      "cell_type": "markdown",
      "source": [
        "# Pytorch 학습 절차 - data 정의\n",
        "\n",
        "- data를 tensor로 생성 후, TensorDataset로 dataset을 생성하고 DataLoader로 batchsize, shuffle 기능을 추가하여 dataloader 생성"
      ],
      "metadata": {
        "id": "E7sFyVWP6tmg"
      }
    },
    {
      "cell_type": "markdown",
      "source": [
        "# Pytorch 학습 절차 - 신경망 모델 구축\n",
        "- pytorch에서 신경망 모델은 nn.Module을 상속받는 class를 생성하는 것이 일반적이다.\n",
        "- class __init__ 함수에서 신경망 모델을 구성하는 다양한 Layer를 정의하고 forward 함수로 신경망에 데이터를 전달하는 피드 포워드를 실행하고 출력값을 리턴한다."
      ],
      "metadata": {
        "id": "vKzyeM5s7G2m"
      }
    },
    {
      "cell_type": "markdown",
      "source": [
        "# Pytorch 학습 절차 - 피드 포워드, 손실 함수 계산, 옵티마이저\n",
        "- 일반적으로 회귀 데이터에서는 nn.MSELoss(). 분류 데이터에서는 nn.CrossEntropyLoss() 사용\n",
        "- 피드 포워드 과정에서 /prediction = model(x_train)/ forward()는 자동으로 호출\n",
        "- 옵티마이저도 경사하강법, ADAM, RMSProp ..\n",
        "- 역전파(backpropagation)으로 옵티마이저"
      ],
      "metadata": {
        "id": "tRi-0tnd8upB"
      }
    },
    {
      "cell_type": "code",
      "source": [
        "import numpy as np\n",
        "import torch\n",
        "from torch import nn\n",
        "\n",
        "# 데이터 정의\n",
        "x_train = torch.Tensor([1,2,3,4,5,6]).view(6,1)\n",
        "y_train = torch.Tensor([3,4,5,6,7,8]).view(6,1)"
      ],
      "metadata": {
        "id": "3pHT_0Mb7GWn"
      },
      "execution_count": null,
      "outputs": []
    },
    {
      "cell_type": "code",
      "source": [
        "# 모델 정의\n",
        "class MyNeuralNetwork(nn.Module):\n",
        "  def __init__(self):\n",
        "    super().__init__()\n",
        "    self.linear_relu_stack = nn.Sequential(\n",
        "        nn.Linear(1,1) # 입력 1, 출력 1\n",
        "    )\n",
        "\n",
        "  # 피드 포워드, 자동 호출\n",
        "  def forward(self, x):\n",
        "    logits = self.linear_relu_stack(x)\n",
        "    return logits"
      ],
      "metadata": {
        "id": "PLiz24Jr_gOT"
      },
      "execution_count": null,
      "outputs": []
    },
    {
      "cell_type": "code",
      "source": [
        "model = MyNeuralNetwork()\n",
        "\n",
        "# 손실 함수 정의\n",
        "loss_function = nn.MSELoss()\n",
        "\n",
        "# 옵티마이저(backpropagation) 정의\n",
        "optimizer = torch.optim.SGD(model.parameters(), lr=1e-2)"
      ],
      "metadata": {
        "id": "GD1roNq-mTfE"
      },
      "execution_count": null,
      "outputs": []
    },
    {
      "cell_type": "code",
      "source": [
        "nums_epoch = 2000\n",
        "\n",
        "for epoch in range(nums_epoch):\n",
        "  # 피드 포워드, forward() 자동 호출\n",
        "  prediction = model(x_train)\n",
        "  # 손실 함수 계산\n",
        "  loss = loss_function(prediction, y_train)\n",
        "\n",
        "  # 옵티마이저(backpropagation 역전파)\n",
        "  optimizer.zero_grad()\n",
        "  loss.backward()\n",
        "  optimizer.step()\n",
        "\n",
        "  if epoch % 100 == 0:\n",
        "    print('epoch', epoch, 'current loss = ', loss.item())\n",
        "\n",
        " # loss 값이 1.1 ..e-06 이므로 거의 0의 수렴 -> 학습 잘됐음"
      ],
      "metadata": {
        "colab": {
          "base_uri": "https://localhost:8080/"
        },
        "id": "wVyiAUWCmThl",
        "outputId": "423cdc40-5cc6-42db-d6b9-7700d1d342f1"
      },
      "execution_count": null,
      "outputs": [
        {
          "output_type": "stream",
          "name": "stdout",
          "text": [
            "epoch 0 current loss =  50.228214263916016\n",
            "epoch 100 current loss =  0.6224438548088074\n",
            "epoch 200 current loss =  0.29959461092948914\n",
            "epoch 300 current loss =  0.1442008763551712\n",
            "epoch 400 current loss =  0.06940671801567078\n",
            "epoch 500 current loss =  0.033406812697649\n",
            "epoch 600 current loss =  0.01607937179505825\n",
            "epoch 700 current loss =  0.0077393315732479095\n",
            "epoch 800 current loss =  0.0037250968161970377\n",
            "epoch 900 current loss =  0.0017929394962266088\n",
            "epoch 1000 current loss =  0.0008629705407656729\n",
            "epoch 1100 current loss =  0.0004153618065174669\n",
            "epoch 1200 current loss =  0.00019992404850199819\n",
            "epoch 1300 current loss =  9.622765355743468e-05\n",
            "epoch 1400 current loss =  4.631515184883028e-05\n",
            "epoch 1500 current loss =  2.2292513676802628e-05\n",
            "epoch 1600 current loss =  1.0729104360507336e-05\n",
            "epoch 1700 current loss =  5.163809419173049e-06\n",
            "epoch 1800 current loss =  2.485001232344075e-06\n",
            "epoch 1900 current loss =  1.1962976032009465e-06\n"
          ]
        }
      ]
    },
    {
      "cell_type": "code",
      "source": [
        "# test\n",
        "\n",
        "x_test = torch.Tensor([3.1, 4.6, 1.4, 2.8, -2.9]).view(5,1)\n",
        "predication = model(x_test)\n",
        "print(predication)"
      ],
      "metadata": {
        "colab": {
          "base_uri": "https://localhost:8080/"
        },
        "id": "VHdjFHbDmTkZ",
        "outputId": "bb6c2b66-cc34-44a1-e1ea-ddc555240701"
      },
      "execution_count": null,
      "outputs": [
        {
          "output_type": "stream",
          "name": "stdout",
          "text": [
            "tensor([[ 5.0995],\n",
            "        [ 6.6001],\n",
            "        [ 3.3988],\n",
            "        [ 4.7994],\n",
            "        [-0.9029]], grad_fn=<AddmmBackward0>)\n"
          ]
        }
      ]
    }
  ],
  "metadata": {
    "colab": {
      "provenance": [],
      "include_colab_link": true
    },
    "kernelspec": {
      "display_name": "Python 3",
      "name": "python3"
    }
  },
  "nbformat": 4,
  "nbformat_minor": 0
}