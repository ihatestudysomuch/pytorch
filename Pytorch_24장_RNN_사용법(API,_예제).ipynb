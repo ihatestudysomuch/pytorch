{
  "nbformat": 4,
  "nbformat_minor": 0,
  "metadata": {
    "colab": {
      "provenance": [],
      "authorship_tag": "ABX9TyPidjESY/hNDhIPp1wQoIKa",
      "include_colab_link": true
    },
    "kernelspec": {
      "name": "python3",
      "display_name": "Python 3"
    },
    "language_info": {
      "name": "python"
    }
  },
  "cells": [
    {
      "cell_type": "markdown",
      "metadata": {
        "id": "view-in-github",
        "colab_type": "text"
      },
      "source": [
        "<a href=\"https://colab.research.google.com/github/ihatestudysomuch/pytorch/blob/main/Pytorch_24%EC%9E%A5_RNN_%EC%82%AC%EC%9A%A9%EB%B2%95(API%2C_%EC%98%88%EC%A0%9C).ipynb\" target=\"_parent\"><img src=\"https://colab.research.google.com/assets/colab-badge.svg\" alt=\"Open In Colab\"/></a>"
      ]
    },
    {
      "cell_type": "markdown",
      "source": [
        "## Pytorch - RNN, GRU, LSTM\n",
        "\n",
        "\n",
        "\n",
        "1.   Pytorch RNN API는 torch.nn.RNN(input_size, hiddne_size, num_layers, batch_first)로 구성되어있다.\n",
        "  - input_size는 RNN 입력층으로 들어가는 feature값의 개수\n",
        "  - hidden_size는 은닉 상태의 개수 즉, RNN layer 출력 개수\n",
        "  - num_layers는 RNN layer의 쌓여져 있는 개수\n",
        "  - batch_first는 입력받는 데이터에서 첫 번째 차원을 batch로 간주 할 것인지 여부를 설정\n",
        "\n"
      ],
      "metadata": {
        "id": "eWP5w-D9u3sl"
      }
    },
    {
      "cell_type": "code",
      "source": [
        "import torch\n",
        "\n",
        "input_data = torch.Tensor([[[1],[2],[3]]]) # (1,3,1) shape을 가지는 입력데이터\n",
        "\n",
        "MyRNNModel = torch.nn.RNN(input_size = 1, hidden_size = 3, batch_first = True) # 1개의 feature이므로 input_size = 1, 출력으로 3개의 은닉 상태를 가짐(hidden_size는 사용자 재량 설정)\n",
        "\n",
        "outputs, last_hs = MyRNNModel(input_data) # outputs는 모든 time_stpes, last_hs는 마지막 time_steps\n",
        "\n",
        "print(outputs.shape, '\\n\\n', outputs, '\\n')\n",
        "print(last_hs.shape,'\\n\\n', last_hs)"
      ],
      "metadata": {
        "colab": {
          "base_uri": "https://localhost:8080/"
        },
        "id": "gpC_vfTW0kG5",
        "outputId": "7d3c3861-a2f7-4e31-99dc-cf72c74e4712"
      },
      "execution_count": 2,
      "outputs": [
        {
          "output_type": "stream",
          "name": "stdout",
          "text": [
            "torch.Size([1, 3, 3]) \n",
            "\n",
            " tensor([[[ 0.3955, -0.2367,  0.5484],\n",
            "         [ 0.8135, -0.4804,  0.6211],\n",
            "         [ 0.9525, -0.6794,  0.7478]]], grad_fn=<TransposeBackward1>) \n",
            "\n",
            "torch.Size([1, 1, 3]) \n",
            "\n",
            " tensor([[[ 0.9525, -0.6794,  0.7478]]], grad_fn=<StackBackward0>)\n"
          ]
        }
      ]
    },
    {
      "cell_type": "code",
      "source": [
        "import torch\n",
        "\n",
        "input_data = torch.Tensor([ [ [1], [2], [3] ],\n",
        "                            [ [4], [5], [6] ] ]) # (2, 3, 1) shape\n",
        "\n",
        "\n",
        "MyRNNModel = torch.nn.RNN(input_size=1, hidden_size=3,\n",
        "                          batch_first=True) # feature = 1 .. input_size = 1\n",
        "\n",
        "\n",
        "outputs, last_hs = MyRNNModel(input_data) # 3 time_steps\n",
        "\n",
        "print(outputs.shape, '\\n\\n', outputs, '\\n')\n",
        "print(last_hs.shape,'\\n\\n', last_hs)\n",
        ""
      ],
      "metadata": {
        "colab": {
          "base_uri": "https://localhost:8080/"
        },
        "id": "nmFbU93t0mPG",
        "outputId": "c4b39d1c-7543-4a8b-aa53-f42ad7c443d7"
      },
      "execution_count": 3,
      "outputs": [
        {
          "output_type": "stream",
          "name": "stdout",
          "text": [
            "torch.Size([2, 3, 3]) \n",
            "\n",
            " tensor([[[-0.1083,  0.6846, -0.4876],\n",
            "         [-0.3943,  0.8193, -0.6307],\n",
            "         [-0.3839,  0.8774, -0.6864]],\n",
            "\n",
            "        [[ 0.2766,  0.9434, -0.6131],\n",
            "         [-0.1402,  0.9783, -0.7488],\n",
            "         [-0.0889,  0.9843, -0.7860]]], grad_fn=<TransposeBackward1>) \n",
            "\n",
            "torch.Size([1, 2, 3]) \n",
            "\n",
            " tensor([[[-0.3839,  0.8774, -0.6864],\n",
            "         [-0.0889,  0.9843, -0.7860]]], grad_fn=<StackBackward0>)\n"
          ]
        }
      ]
    },
    {
      "cell_type": "code",
      "source": [
        "import torch\n",
        "\n",
        "input_data = torch.Tensor([ [ [1, 10], [2, 11], [3, 12] ],\n",
        "                            [ [4, 13], [5, 14], [6, 15] ],\n",
        "                            [ [7, 16], [8, 17], [9, 18] ] ]) # (3, 3, 2)\n",
        "\n",
        "\n",
        "MyRNNModel = torch.nn.RNN(input_size=2, hidden_size=6,\n",
        "                          batch_first=True)\n",
        "\n",
        "\n",
        "outputs, last_hs = MyRNNModel(input_data)\n",
        "\n",
        "print(outputs.shape, '\\n\\n', outputs, '\\n')\n",
        "print(last_hs.shape,'\\n\\n', last_hs)"
      ],
      "metadata": {
        "colab": {
          "base_uri": "https://localhost:8080/"
        },
        "id": "cS2WEqNW2BED",
        "outputId": "554e671d-cbff-4cbc-ec0b-565dc29dc75a"
      },
      "execution_count": 5,
      "outputs": [
        {
          "output_type": "stream",
          "name": "stdout",
          "text": [
            "torch.Size([3, 3, 6]) \n",
            "\n",
            " tensor([[[-0.9998, -0.9980, -0.9701, -0.1336, -0.9641,  0.9501],\n",
            "         [-1.0000, -0.9864, -0.9909, -0.7416, -0.9428,  0.9901],\n",
            "         [-1.0000, -0.9820, -0.9915, -0.8698, -0.9236,  0.9968]],\n",
            "\n",
            "        [[-1.0000, -0.9984, -0.9890, -0.5458, -0.9562,  0.9983],\n",
            "         [-1.0000, -0.9857, -0.9960, -0.9195, -0.9192,  0.9997],\n",
            "         [-1.0000, -0.9840, -0.9966, -0.9536, -0.9017,  0.9999]],\n",
            "\n",
            "        [[-1.0000, -0.9987, -0.9960, -0.7971, -0.9466,  0.9999],\n",
            "         [-1.0000, -0.9868, -0.9984, -0.9734, -0.8927,  1.0000],\n",
            "         [-1.0000, -0.9868, -0.9987, -0.9824, -0.8798,  1.0000]]],\n",
            "       grad_fn=<TransposeBackward1>) \n",
            "\n",
            "torch.Size([1, 3, 6]) \n",
            "\n",
            " tensor([[[-1.0000, -0.9820, -0.9915, -0.8698, -0.9236,  0.9968],\n",
            "         [-1.0000, -0.9840, -0.9966, -0.9536, -0.9017,  0.9999],\n",
            "         [-1.0000, -0.9868, -0.9987, -0.9824, -0.8798,  1.0000]]],\n",
            "       grad_fn=<StackBackward0>)\n"
          ]
        }
      ]
    }
  ]
}