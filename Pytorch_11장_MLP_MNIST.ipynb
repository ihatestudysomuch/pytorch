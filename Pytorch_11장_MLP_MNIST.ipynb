{
  "nbformat": 4,
  "nbformat_minor": 0,
  "metadata": {
    "colab": {
      "provenance": [],
      "authorship_tag": "ABX9TyMwLWgNTUSCO4jNCVdnRcj9",
      "include_colab_link": true
    },
    "kernelspec": {
      "name": "python3",
      "display_name": "Python 3"
    },
    "language_info": {
      "name": "python"
    }
  },
  "cells": [
    {
      "cell_type": "markdown",
      "metadata": {
        "id": "view-in-github",
        "colab_type": "text"
      },
      "source": [
        "<a href=\"https://colab.research.google.com/github/ihatestudysomuch/pytorch/blob/main/Pytorch_11%EC%9E%A5_MLP_MNIST.ipynb\" target=\"_parent\"><img src=\"https://colab.research.google.com/assets/colab-badge.svg\" alt=\"Open In Colab\"/></a>"
      ]
    },
    {
      "cell_type": "markdown",
      "source": [
        "## MLP(Multi Layer Perceptron) MNIST\n",
        "* 전 강의에서 배우긴 했지만 다시 복습!\n",
        "\n",
        "\n",
        "\n",
        "1.   MNIST는 손으로 직접 쓴 흑백의 숫자(필기체 숫자)들로 이루어진 데이터\n",
        "2.   딥러닝을 배울 때 꼭 거쳐가는 \"Hello ,World\"와 같은 존재\n",
        "  - 28 * 28 크기의 숫자 이미지(X)와 0~9 까지의 정답(y)으로 이루어진 60,000개의 학습 데이터와 10,000개의 테스트 데이터로 구성되어 있음\n",
        "\n",
        "\n",
        "\n",
        "\n"
      ],
      "metadata": {
        "id": "S4RyConvSwQK"
      }
    },
    {
      "cell_type": "markdown",
      "source": [
        "## 딥러닝 MLP 구조\n",
        "\n",
        "\n",
        "\n",
        "1.   입력층은 28 * 28 크기의 이미지를 1차원 벡터 즉, 784(28 * 28)개의 길이를 갖는 1차원 벡터로 변환해 은닉층으로 전달한다.\n",
        "\n",
        "1.   은닉층은 일반적으로 1개 이상의 은닉층으로 이루어져 있으며, 내부에 많은 노드로 구성되어있고 은닉층의 개수, 노드 개수로 학습 데이터와 성능 등을 고려하여 최적의 값을 찾아야한다.\n",
        "2.   ReLU는 활성함수로 입력값 if 입력값 > 0 else 0으로 출력하는 비선형 함수\n",
        "\n",
        "\n",
        "2.   Droptout은 학습 데이터에 대한 과적합을 줄이기 위해 신경망을 주어진 확률값에 따라 부분적으로 제거하는 함수\n",
        "\n",
        "\n",
        "1.   출력층은 MNIST가 총 0~9까지 10개의 정답(label)을 가지기 때문에 정답 개수와 같은 10개로 설정한다.\n",
        "2.   Softmax는 다중 클래스로 분류 모델을 사용하며, 입력된 벡터의 각 요소를 0 ~ 1 사이의 확률값으로 변환해주는 함수이다.\n",
        "\n",
        "\n",
        "\n"
      ],
      "metadata": {
        "id": "w0rFjToOTa6b"
      }
    },
    {
      "cell_type": "code",
      "execution_count": 1,
      "metadata": {
        "id": "of4_v7cmPdki"
      },
      "outputs": [],
      "source": [
        "\n",
        "import torch\n",
        "from torch import nn\n",
        "from torchvision import datasets # pytorch에서 제공하는 image dataset\n",
        "from torchvision import transforms\n",
        "from torch.utils.data import Dataset, DataLoader, random_split\n",
        "import numpy as np\n",
        ""
      ]
    },
    {
      "cell_type": "code",
      "source": [
        "# data\n",
        "train_dataset = datasets.MNIST(root='./data', train=True, download=True, transform=transforms.ToTensor()) # train data, transforms으로 0~255까지의 값을 0~1 사이의 값으로 변환 시켜줌 즉, 정규화\n",
        "test_dataset = datasets.MNIST(root='./data', train=False, download=True, transform=transforms.ToTensor()) # test data, transforms로 정규화"
      ],
      "metadata": {
        "colab": {
          "base_uri": "https://localhost:8080/"
        },
        "collapsed": true,
        "id": "AlQrSeEoVfp_",
        "outputId": "ae6c66ac-8f11-4fb3-dc4e-1da44554f5e4"
      },
      "execution_count": 2,
      "outputs": [
        {
          "output_type": "stream",
          "name": "stdout",
          "text": [
            "Downloading http://yann.lecun.com/exdb/mnist/train-images-idx3-ubyte.gz\n",
            "Failed to download (trying next):\n",
            "HTTP Error 403: Forbidden\n",
            "\n",
            "Downloading https://ossci-datasets.s3.amazonaws.com/mnist/train-images-idx3-ubyte.gz\n",
            "Downloading https://ossci-datasets.s3.amazonaws.com/mnist/train-images-idx3-ubyte.gz to ./data/MNIST/raw/train-images-idx3-ubyte.gz\n"
          ]
        },
        {
          "output_type": "stream",
          "name": "stderr",
          "text": [
            "100%|██████████| 9.91M/9.91M [00:00<00:00, 130MB/s]\n"
          ]
        },
        {
          "output_type": "stream",
          "name": "stdout",
          "text": [
            "Extracting ./data/MNIST/raw/train-images-idx3-ubyte.gz to ./data/MNIST/raw\n",
            "\n",
            "Downloading http://yann.lecun.com/exdb/mnist/train-labels-idx1-ubyte.gz\n",
            "Failed to download (trying next):\n",
            "HTTP Error 403: Forbidden\n",
            "\n",
            "Downloading https://ossci-datasets.s3.amazonaws.com/mnist/train-labels-idx1-ubyte.gz\n",
            "Downloading https://ossci-datasets.s3.amazonaws.com/mnist/train-labels-idx1-ubyte.gz to ./data/MNIST/raw/train-labels-idx1-ubyte.gz\n"
          ]
        },
        {
          "output_type": "stream",
          "name": "stderr",
          "text": [
            "100%|██████████| 28.9k/28.9k [00:00<00:00, 19.3MB/s]"
          ]
        },
        {
          "output_type": "stream",
          "name": "stdout",
          "text": [
            "Extracting ./data/MNIST/raw/train-labels-idx1-ubyte.gz to ./data/MNIST/raw\n",
            "\n",
            "Downloading http://yann.lecun.com/exdb/mnist/t10k-images-idx3-ubyte.gz\n"
          ]
        },
        {
          "output_type": "stream",
          "name": "stderr",
          "text": [
            "\n"
          ]
        },
        {
          "output_type": "stream",
          "name": "stdout",
          "text": [
            "Failed to download (trying next):\n",
            "HTTP Error 403: Forbidden\n",
            "\n",
            "Downloading https://ossci-datasets.s3.amazonaws.com/mnist/t10k-images-idx3-ubyte.gz\n",
            "Downloading https://ossci-datasets.s3.amazonaws.com/mnist/t10k-images-idx3-ubyte.gz to ./data/MNIST/raw/t10k-images-idx3-ubyte.gz\n"
          ]
        },
        {
          "output_type": "stream",
          "name": "stderr",
          "text": [
            "100%|██████████| 1.65M/1.65M [00:00<00:00, 54.8MB/s]\n"
          ]
        },
        {
          "output_type": "stream",
          "name": "stdout",
          "text": [
            "Extracting ./data/MNIST/raw/t10k-images-idx3-ubyte.gz to ./data/MNIST/raw\n",
            "\n",
            "Downloading http://yann.lecun.com/exdb/mnist/t10k-labels-idx1-ubyte.gz\n",
            "Failed to download (trying next):\n",
            "HTTP Error 403: Forbidden\n",
            "\n",
            "Downloading https://ossci-datasets.s3.amazonaws.com/mnist/t10k-labels-idx1-ubyte.gz\n",
            "Downloading https://ossci-datasets.s3.amazonaws.com/mnist/t10k-labels-idx1-ubyte.gz to ./data/MNIST/raw/t10k-labels-idx1-ubyte.gz\n"
          ]
        },
        {
          "output_type": "stream",
          "name": "stderr",
          "text": [
            "100%|██████████| 4.54k/4.54k [00:00<00:00, 1.82MB/s]"
          ]
        },
        {
          "output_type": "stream",
          "name": "stdout",
          "text": [
            "Extracting ./data/MNIST/raw/t10k-labels-idx1-ubyte.gz to ./data/MNIST/raw\n",
            "\n"
          ]
        },
        {
          "output_type": "stream",
          "name": "stderr",
          "text": [
            "\n"
          ]
        }
      ]
    },
    {
      "cell_type": "code",
      "source": [
        "# print(train_dataset)\n",
        "# print(test_dataset)"
      ],
      "metadata": {
        "colab": {
          "base_uri": "https://localhost:8080/"
        },
        "collapsed": true,
        "id": "xFdZSqRHXoPk",
        "outputId": "a0e8da93-e855-4f5f-976b-57f36b9a2c28"
      },
      "execution_count": 4,
      "outputs": [
        {
          "output_type": "stream",
          "name": "stdout",
          "text": [
            "Dataset MNIST\n",
            "    Number of datapoints: 10000\n",
            "    Root location: ./data\n",
            "    Split: Test\n",
            "    StandardTransform\n",
            "Transform: ToTensor()\n"
          ]
        }
      ]
    },
    {
      "cell_type": "code",
      "source": [
        "# test data는 그대로 두고 train data에서 train, validation을 0.85, 0.15 비율로 나누기\n",
        "trian_dataset_size = int(len(train_dataset) * 0.85)\n",
        "validation_dataset_size = int(len(train_dataset) * 0.15)\n",
        "\n",
        "# train_dataset을 train, validation으로 random하게 나누기\n",
        "train_dataset, validation_dataset = random_split(train_dataset, [trian_dataset_size, validation_dataset_size])\n",
        "\n",
        "print(len(train_dataset), len(validation_dataset), len(test_dataset))"
      ],
      "metadata": {
        "colab": {
          "base_uri": "https://localhost:8080/"
        },
        "id": "pSO10_rMXvdC",
        "outputId": "04d158bb-a477-47f9-8604-318c85be86b6"
      },
      "execution_count": 6,
      "outputs": [
        {
          "output_type": "stream",
          "name": "stdout",
          "text": [
            "51000 9000 10000\n"
          ]
        }
      ]
    },
    {
      "cell_type": "code",
      "source": [
        "# 모델\n",
        "class MyDeppLearningModel(nn.Module):\n",
        "  def __init__(self):\n",
        "    super().__init__()\n",
        "    self.flatten = nn.Flatten() # 입력층\n",
        "    self.fc1 = nn.Linear(784, 256) # 은닉층\n",
        "    self.relu = nn.ReLU() # 비선형함수 ReLU\n",
        "    self.dropout = nn.Dropout(0.3)\n",
        "    self.fc2 = nn.Linear(256,10) # 출력층\n",
        "\n",
        "  # 피드 포워드\n",
        "  def forward(self, x):\n",
        "    x = self.flatten(x) # 입력층\n",
        "    x = self.fc1(x) # 은닉층\n",
        "    x = self.relu(x) # 비선형함수 ReLU\n",
        "    x = self.dropout(x)\n",
        "    output = self.fc2(x) # 출력층\n",
        "    return output\n"
      ],
      "metadata": {
        "id": "FxN22p2Yaks5"
      },
      "execution_count": 7,
      "outputs": []
    },
    {
      "cell_type": "code",
      "source": [
        "BATCH_SIZE = 32\n",
        "\n",
        "# batch data\n",
        "train_dataloader = DataLoader(dataset = train_dataset, batch_size = BATCH_SIZE, shuffle = True)\n",
        "validation_dataloader = DataLoader(dataset = validation_dataset, batch_size = BATCH_SIZE, shuffle = True)\n",
        "test_dataloader = DataLoader(dataset = test_dataset, batch_size = BATCH_SIZE, shuffle = True)"
      ],
      "metadata": {
        "id": "sniFs-NNbaPf"
      },
      "execution_count": 8,
      "outputs": []
    },
    {
      "cell_type": "code",
      "source": [
        "# 손실함수, 옵티마이저\n",
        "model = MyDeppLearningModel()\n",
        "\n",
        "loss_function = nn.CrossEntropyLoss() # 손실함수 Cross Entropy, 0, 1로 binary 출력이 아니기 때문에 BCE가 아닌 Cross Entropy 사용, 그리고 Softmax가 들어있음\n",
        "optimizer = torch.optim.SGD(model.parameters(), lr = 1e-2) # 옵티마이저 SGD(단층 경사 하강법)\n"
      ],
      "metadata": {
        "id": "I2TcnJhqakqI"
      },
      "execution_count": 10,
      "outputs": []
    },
    {
      "cell_type": "code",
      "source": [
        "# train 학습 정의\n",
        "def model_train(dataloader, model, loss_function, optimizer):\n",
        "  model.train() # 딥러닝 모델 학습모드로 전환\n",
        "\n",
        "  train_loss_sum = train_correct = train_total = 0\n",
        "  total_train_batch = len(dataloader)\n",
        "\n",
        "  for images, labels in dataloader:\n",
        "    x_train = images.view(-1, 28*28) # 2차원 벡터를 1차원 벡터로 변경, dataloader(여기서는 train_dataloader)에는 MNIST images(x_train)과 0~9의 정답(labels)로 이루어져있다.\n",
        "    y_train = labels # 0~9 정답값\n",
        "\n",
        "    output = model(x_train) # 예측값\n",
        "    loss = loss_function(output, y_train) # 오차\n",
        "\n",
        "    # 역전파(W, q 업데이트)\n",
        "    optimizer.zero_grad() # 기울기 초기화\n",
        "    loss.backward() # 역전파\n",
        "    optimizer.step() # 가중치 갱신\n",
        "\n",
        "    train_loss_sum += loss.item()\n",
        "\n",
        "    train_total += y_train.size(0)\n",
        "    train_correct += ((torch.argmax(output, 1) ==y_train)).sum().item()\n",
        "\n",
        "  avg_loss = train_loss_sum / total_train_batch\n",
        "  avg_acc =  100 * train_correct / total_train_batch\n",
        "\n",
        "\n",
        "  return (avg_loss, avg_acc)"
      ],
      "metadata": {
        "id": "F53_fcDzc2bc"
      },
      "execution_count": 12,
      "outputs": []
    },
    {
      "cell_type": "code",
      "source": [
        "# validation 평가 정의\n",
        "def model_evaluate(dataloader, model, loss_function, optimizer):\n",
        "\n",
        "    model.eval() # 딥러닝 모델을 학습모드에서 추론(검증)모드로 전환\n",
        "\n",
        "    with torch.no_grad(): #미분하지 않겠다는 것 즉, 모델 파라미터인 W, b를 업데이트 하지 않겠다고 선언하는 것이 일반적\n",
        "\n",
        "        val_loss_sum = 0\n",
        "        val_correct=0\n",
        "        val_total = 0\n",
        "\n",
        "        total_val_batch = len(dataloader)\n",
        "\n",
        "        for images, labels in dataloader: # images에는 이미지, labels에는 0-9 숫자\n",
        "\n",
        "            # reshape input image into [batch_size by 784]\n",
        "            # label is not one-hot encoded\n",
        "            x_val = images.view(-1, 28 * 28) #처음 크기는 (batch_size, 1, 28, 28) / 이걸 (batch_size, 784)로 변환\n",
        "            y_val = labels\n",
        "\n",
        "            # 역전파 코드는 존재하지 않음(W, b를 업데이트 하지 않으니까~)\n",
        "\n",
        "            outputs = model(x_val)\n",
        "            loss = loss_function(outputs, y_val)\n",
        "\n",
        "            val_loss_sum += loss.item()\n",
        "\n",
        "            val_total += y_val.size(0)  # label 열 사이즈 같음\n",
        "            val_correct += ((torch.argmax(outputs, 1)==y_val)).sum().item() # 예측한 값과 일치한 값의 합\n",
        "\n",
        "        val_avg_loss = val_loss_sum / total_val_batch\n",
        "        val_avg_accuracy = 100*val_correct / val_total\n",
        "\n",
        "    return (val_avg_loss, val_avg_accuracy)"
      ],
      "metadata": {
        "id": "-Lwg7R_1fK1n"
      },
      "execution_count": 13,
      "outputs": []
    },
    {
      "cell_type": "code",
      "source": [
        "# 학습, 평가 시작\n",
        "from datetime import datetime\n",
        "\n",
        "train_loss_list = []\n",
        "train_accuracy_list = []\n",
        "\n",
        "val_loss_list = []\n",
        "val_accuracy_list = []\n",
        "\n",
        "start_time = datetime.now()\n",
        "\n",
        "EPOCHS = 20\n",
        "\n",
        "for epoch in range(EPOCHS):\n",
        "\n",
        "    #==============  model train  ================\n",
        "    train_avg_loss, train_avg_accuracy = model_train(train_dataloader, model, loss_function, optimizer)  # training\n",
        "\n",
        "    train_loss_list.append(train_avg_loss)\n",
        "    train_accuracy_list.append(train_avg_accuracy)\n",
        "    #=============================================\n",
        "\n",
        "    #============  model evaluation  ==============\n",
        "    val_avg_loss, val_avg_accuracy = model_evaluate(validation_dataloader, model, loss_function, optimizer)  # evaluation\n",
        "\n",
        "    val_loss_list.append(val_avg_loss)\n",
        "    val_accuracy_list.append(val_avg_accuracy)\n",
        "    #============  model evaluation  ==============\n",
        "\n",
        "    print('epoch:', '%02d' % (epoch + 1),\n",
        "          'train loss =', '{:.4f}'.format(train_avg_loss), 'train accuracy =', '{:.4f}'.format(train_avg_accuracy),\n",
        "          'validation loss =', '{:.4f}'.format(val_avg_loss), 'validation accuracy =', '{:.4f}'.format(val_avg_accuracy))\n",
        "\n",
        "end_time = datetime.now()\n",
        "\n",
        "print('elapsed time => ', end_time-start_time)\n",
        ""
      ],
      "metadata": {
        "colab": {
          "base_uri": "https://localhost:8080/"
        },
        "id": "XgkS1VftgAB4",
        "outputId": "7c6e2e3f-dfee-4d92-9a92-f4f86a9993c7"
      },
      "execution_count": 14,
      "outputs": [
        {
          "output_type": "stream",
          "name": "stdout",
          "text": [
            "epoch: 01 train loss = 0.9803 train accuracy = 2445.9849 validation loss = 0.4512 validation accuracy = 88.8778\n",
            "epoch: 02 train loss = 0.4408 train accuracy = 2807.0891 validation loss = 0.3444 validation accuracy = 90.5000\n",
            "epoch: 03 train loss = 0.3689 train accuracy = 2863.7390 validation loss = 0.3019 validation accuracy = 91.7000\n",
            "epoch: 04 train loss = 0.3274 train accuracy = 2902.1330 validation loss = 0.2735 validation accuracy = 92.3444\n",
            "epoch: 05 train loss = 0.2983 train accuracy = 2929.3601 validation loss = 0.2518 validation accuracy = 93.0889\n",
            "epoch: 06 train loss = 0.2753 train accuracy = 2948.8080 validation loss = 0.2333 validation accuracy = 93.5556\n",
            "epoch: 07 train loss = 0.2546 train accuracy = 2967.1267 validation loss = 0.2178 validation accuracy = 93.9889\n",
            "epoch: 08 train loss = 0.2398 train accuracy = 2981.6813 validation loss = 0.2052 validation accuracy = 94.4333\n",
            "epoch: 09 train loss = 0.2261 train accuracy = 2997.6788 validation loss = 0.1942 validation accuracy = 94.7000\n",
            "epoch: 10 train loss = 0.2125 train accuracy = 3007.7164 validation loss = 0.1842 validation accuracy = 94.8556\n",
            "epoch: 11 train loss = 0.2025 train accuracy = 3018.5696 validation loss = 0.1774 validation accuracy = 94.9000\n",
            "epoch: 12 train loss = 0.1915 train accuracy = 3024.2158 validation loss = 0.1678 validation accuracy = 95.3222\n",
            "epoch: 13 train loss = 0.1835 train accuracy = 3034.5671 validation loss = 0.1607 validation accuracy = 95.5667\n",
            "epoch: 14 train loss = 0.1760 train accuracy = 3041.1543 validation loss = 0.1546 validation accuracy = 95.7111\n",
            "epoch: 15 train loss = 0.1682 train accuracy = 3047.8043 validation loss = 0.1496 validation accuracy = 95.7889\n",
            "epoch: 16 train loss = 0.1637 train accuracy = 3052.1957 validation loss = 0.1450 validation accuracy = 95.9111\n",
            "epoch: 17 train loss = 0.1568 train accuracy = 3058.3438 validation loss = 0.1396 validation accuracy = 96.0333\n",
            "epoch: 18 train loss = 0.1501 train accuracy = 3065.3074 validation loss = 0.1351 validation accuracy = 96.1556\n",
            "epoch: 19 train loss = 0.1461 train accuracy = 3070.3890 validation loss = 0.1311 validation accuracy = 96.3222\n",
            "epoch: 20 train loss = 0.1407 train accuracy = 3071.3927 validation loss = 0.1280 validation accuracy = 96.3778\n",
            "elapsed time =>  0:03:51.306010\n"
          ]
        }
      ]
    },
    {
      "cell_type": "code",
      "source": [
        "def model_test(dataloader, model):\n",
        "\n",
        "    model.eval()\n",
        "\n",
        "    with torch.no_grad(): #test set으로 데이터를 다룰 때에는 gradient를 주면 안된다.\n",
        "\n",
        "        test_loss_sum = 0\n",
        "        test_correct=0\n",
        "        test_total = 0\n",
        "\n",
        "        total_test_batch = len(dataloader)\n",
        "\n",
        "        for images, labels in dataloader: # images에는 이미지, labels에는 0-9 숫자\n",
        "\n",
        "            # reshape input image into [batch_size by 784]\n",
        "            # label is not one-hot encoded\n",
        "            x_test = images.view(-1, 28 * 28) #처음 크기는 (batch_size, 1, 28, 28) / 이걸 (batch_size, 784)로 변환\n",
        "            y_test = labels\n",
        "\n",
        "            outputs = model(x_test)\n",
        "            loss = loss_function(outputs, y_test)\n",
        "\n",
        "            test_loss_sum += loss.item()\n",
        "\n",
        "            test_total += y_test.size(0)  # label 열 사이즈 같음\n",
        "            test_correct += ((torch.argmax(outputs, 1)==y_test)).sum().item() # 예측한 값과 일치한 값의 합\n",
        "\n",
        "        test_avg_loss = test_loss_sum / total_test_batch\n",
        "        test_avg_accuracy = 100*test_correct / test_total\n",
        "\n",
        "        print('accuracy:', test_avg_accuracy)\n",
        "        print('loss:', test_avg_loss)"
      ],
      "metadata": {
        "id": "Bkc735EJhY3m"
      },
      "execution_count": 16,
      "outputs": []
    },
    {
      "cell_type": "code",
      "source": [
        "# test dataset 으로 정확도 및 오차 테스트\n",
        "\n",
        "model_test(test_dataloader, model)"
      ],
      "metadata": {
        "colab": {
          "base_uri": "https://localhost:8080/"
        },
        "id": "V1EDvH8tguhE",
        "outputId": "627a7e2d-a077-4d84-f780-0995c0045517"
      },
      "execution_count": 17,
      "outputs": [
        {
          "output_type": "stream",
          "name": "stdout",
          "text": [
            "accuracy: 96.38\n",
            "loss: 0.12260108923884674\n"
          ]
        }
      ]
    },
    {
      "cell_type": "code",
      "source": [
        "import matplotlib.pyplot as plt\n",
        "\n",
        "plt.title('Loss Trend')\n",
        "plt.xlabel('epochs')\n",
        "plt.ylabel('loss')\n",
        "plt.grid()\n",
        "\n",
        "plt.plot(train_loss_list, label='train loss')\n",
        "plt.plot(val_loss_list, label='validation loss')\n",
        "\n",
        "plt.legend()\n",
        "\n",
        "plt.show()\n",
        ""
      ],
      "metadata": {
        "colab": {
          "base_uri": "https://localhost:8080/",
          "height": 472
        },
        "id": "7OcJjWKxheW0",
        "outputId": "471c0df2-081a-4b40-de12-850b0c786af2"
      },
      "execution_count": 18,
      "outputs": [
        {
          "output_type": "display_data",
          "data": {
            "text/plain": [
              "<Figure size 640x480 with 1 Axes>"
            ],
            "image/png": "[encoded data removed]"
          },
          "metadata": {}
        }
      ]
    },
    {
      "cell_type": "code",
      "source": [
        "\n",
        "import matplotlib.pyplot as plt\n",
        "\n",
        "plt.title('Accuracy Trend')\n",
        "plt.xlabel('epochs')\n",
        "plt.ylabel('accuracy')\n",
        "plt.grid()\n",
        "\n",
        "plt.plot(train_accuracy_list, label='train accuracy')\n",
        "plt.plot(val_accuracy_list, label='validation accuracy')\n",
        "\n",
        "plt.legend()\n",
        "\n",
        "plt.show()\n",
        "\n",
        "# 결과가 이상한 건 train의 acc이 이상하게 계산한 거 같음! 아무튼 acc는 반복할 때마다 오름"
      ],
      "metadata": {
        "colab": {
          "base_uri": "https://localhost:8080/",
          "height": 472
        },
        "id": "tM58e8q2hipe",
        "outputId": "17e8630a-fbca-4813-f1f8-84f81f5e6fdb"
      },
      "execution_count": 19,
      "outputs": [
        {
          "output_type": "display_data",
          "data": {
            "text/plain": [
              "<Figure size 640x480 with 1 Axes>"
            ],
            "image/png": "[encoded data removed]"
          },
          "metadata": {}
        }
      ]
    }
  ]
}