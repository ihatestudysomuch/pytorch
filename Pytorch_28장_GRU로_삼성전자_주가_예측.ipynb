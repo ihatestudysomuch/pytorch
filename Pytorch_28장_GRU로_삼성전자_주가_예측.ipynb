{
  "nbformat": 4,
  "nbformat_minor": 0,
  "metadata": {
    "colab": {
      "provenance": [],
      "authorship_tag": "ABX9TyM4cY2B9cKH6RD5kkxcj8KC",
      "include_colab_link": true
    },
    "kernelspec": {
      "name": "python3",
      "display_name": "Python 3"
    },
    "language_info": {
      "name": "python"
    }
  },
  "cells": [
    {
      "cell_type": "markdown",
      "metadata": {
        "id": "view-in-github",
        "colab_type": "text"
      },
      "source": [
        "<a href=\"https://colab.research.google.com/github/ihatestudysomuch/pytorch/blob/main/Pytorch_28%EC%9E%A5_GRU%EB%A1%9C_%EC%82%BC%EC%84%B1%EC%A0%84%EC%9E%90_%EC%A3%BC%EA%B0%80_%EC%98%88%EC%B8%A1.ipynb\" target=\"_parent\"><img src=\"https://colab.research.google.com/assets/colab-badge.svg\" alt=\"Open In Colab\"/></a>"
      ]
    },
    {
      "cell_type": "code",
      "source": [
        "import torch # pytorch\n",
        "import numpy as np #\n",
        "import pandas as pd # 시각화\n",
        "from torch import nn # 모델\n",
        "import matplotlib.pyplot as plt # 시각화 2\n",
        "from sklearn.preprocessing import MinMaxScaler # Scaler로 값 조정\n",
        "from torch.utils.data import TensorDataset, DataLoader # Data"
      ],
      "metadata": {
        "id": "M-CZc8wgwnKV"
      },
      "execution_count": 1,
      "outputs": []
    },
    {
      "cell_type": "code",
      "source": [
        "\n",
        "DEVICE = torch.device(\"cuda\") if torch.cuda.is_available() else torch.device(\"cpu\") # 난 cpu\n",
        "\n",
        "print(f\"using PyTorch version: {torch.__version__}, Device: {DEVICE}\")\n",
        ""
      ],
      "metadata": {
        "colab": {
          "base_uri": "https://localhost:8080/"
        },
        "id": "aVkM_ThGwwQt",
        "outputId": "295e71b1-4830-4c5a-afdf-38dc463517f6"
      },
      "execution_count": 2,
      "outputs": [
        {
          "output_type": "stream",
          "name": "stdout",
          "text": [
            "using PyTorch version: 2.5.1+cu121, Device: cpu\n"
          ]
        }
      ]
    },
    {
      "cell_type": "code",
      "source": [
        "FEATURE_NUMS = 4        # 입력층으로 들어가는 데이터 개수 feature\n",
        "SEQ_LENGTH = 5          # 정답을 만들기 위해 필요한 시점 개수 time step\n",
        "HIDDEN_SIZE = 4         # RNN 계열 계층을 구성하는 hidden state 개수\n",
        "NUM_LAYERS = 1          # RNN 계열 계층이 몇겹으로 쌓였는지 나타냄\n",
        "LEARNING_RATE = 1e-3    # 학습율 lr\n",
        "BATCH_SIZE = 20         # 학습을 위한 배치사이즈 개수"
      ],
      "metadata": {
        "id": "beynELzywyyw"
      },
      "execution_count": 3,
      "outputs": []
    },
    {
      "cell_type": "code",
      "source": [
        "!pip install finance-datareader"
      ],
      "metadata": {
        "colab": {
          "base_uri": "https://localhost:8080/"
        },
        "id": "FqskE98Dwy45",
        "outputId": "c4577b0e-8618-4768-95f0-6beff8384cf9"
      },
      "execution_count": 5,
      "outputs": [
        {
          "output_type": "stream",
          "name": "stdout",
          "text": [
            "Requirement already satisfied: finance-datareader in /usr/local/lib/python3.10/dist-packages (0.9.94)\n",
            "Requirement already satisfied: pandas>=0.19.2 in /usr/local/lib/python3.10/dist-packages (from finance-datareader) (2.2.2)\n",
            "Requirement already satisfied: requests>=2.3.0 in /usr/local/lib/python3.10/dist-packages (from finance-datareader) (2.32.3)\n",
            "Requirement already satisfied: requests-file in /usr/local/lib/python3.10/dist-packages (from finance-datareader) (2.1.0)\n",
            "Requirement already satisfied: lxml in /usr/local/lib/python3.10/dist-packages (from finance-datareader) (5.3.0)\n",
            "Requirement already satisfied: tqdm in /usr/local/lib/python3.10/dist-packages (from finance-datareader) (4.67.1)\n",
            "Requirement already satisfied: numpy>=1.22.4 in /usr/local/lib/python3.10/dist-packages (from pandas>=0.19.2->finance-datareader) (1.26.4)\n",
            "Requirement already satisfied: python-dateutil>=2.8.2 in /usr/local/lib/python3.10/dist-packages (from pandas>=0.19.2->finance-datareader) (2.8.2)\n",
            "Requirement already satisfied: pytz>=2020.1 in /usr/local/lib/python3.10/dist-packages (from pandas>=0.19.2->finance-datareader) (2024.2)\n",
            "Requirement already satisfied: tzdata>=2022.7 in /usr/local/lib/python3.10/dist-packages (from pandas>=0.19.2->finance-datareader) (2024.2)\n",
            "Requirement already satisfied: charset-normalizer<4,>=2 in /usr/local/lib/python3.10/dist-packages (from requests>=2.3.0->finance-datareader) (3.4.1)\n",
            "Requirement already satisfied: idna<4,>=2.5 in /usr/local/lib/python3.10/dist-packages (from requests>=2.3.0->finance-datareader) (3.10)\n",
            "Requirement already satisfied: urllib3<3,>=1.21.1 in /usr/local/lib/python3.10/dist-packages (from requests>=2.3.0->finance-datareader) (2.3.0)\n",
            "Requirement already satisfied: certifi>=2017.4.17 in /usr/local/lib/python3.10/dist-packages (from requests>=2.3.0->finance-datareader) (2024.12.14)\n",
            "Requirement already satisfied: six>=1.5 in /usr/local/lib/python3.10/dist-packages (from python-dateutil>=2.8.2->pandas>=0.19.2->finance-datareader) (1.17.0)\n"
          ]
        }
      ]
    },
    {
      "cell_type": "code",
      "source": [
        "import FinanceDataReader as fdr\n",
        "\n",
        "df = fdr.DataReader('005930', '2020-01-01', '2024-06-30') # 삼성전자 주가 목록'005930', 2020-01-01 ~ 2024-06-30\n",
        "\n",
        "df = df[ ['Open', 'High', 'Low', 'Volume', 'Close'] ] # 장 오픈, 고점, 저점, 크기, 장 마감\n",
        "\n",
        "df.head(10) # 상위 10개"
      ],
      "metadata": {
        "colab": {
          "base_uri": "https://localhost:8080/",
          "height": 394
        },
        "id": "S7bTRzdtyZnq",
        "outputId": "676296c9-75ce-4208-b6e9-a6302771202c"
      },
      "execution_count": 6,
      "outputs": [
        {
          "output_type": "execute_result",
          "data": {
            "text/plain": [
              "             Open   High    Low    Volume  Close\n",
              "Date                                            \n",
              "2020-01-02  55500  56000  55000  12993228  55200\n",
              "2020-01-03  56000  56600  54900  15422255  55500\n",
              "2020-01-06  54900  55600  54600  10278951  55500\n",
              "2020-01-07  55700  56400  55600  10009778  55800\n",
              "2020-01-08  56200  57400  55900  23501171  56800\n",
              "2020-01-09  58400  58600  57400  24102579  58600\n",
              "2020-01-10  58800  59700  58300  16000170  59500\n",
              "2020-01-13  59600  60000  59100  11359139  60000\n",
              "2020-01-14  60400  61000  59900  16906295  60000\n",
              "2020-01-15  59500  59600  58900  14300928  59000"
            ],
            "text/html": [
              "\n",
              "  <div id=\"df-71eba841-c32d-4696-bfbe-109b02432532\" class=\"colab-df-container\">\n",
              "    <div>\n",
              "<style scoped>\n",
              "    .dataframe tbody tr th:only-of-type {\n",
              "        vertical-align: middle;\n",
              "    }\n",
              "\n",
              "    .dataframe tbody tr th {\n",
              "        vertical-align: top;\n",
              "    }\n",
              "\n",
              "    .dataframe thead th {\n",
              "        text-align: right;\n",
              "    }\n",
              "</style>\n",
              "<table border=\"1\" class=\"dataframe\">\n",
              "  <thead>\n",
              "    <tr style=\"text-align: right;\">\n",
              "      <th></th>\n",
              "      <th>Open</th>\n",
              "      <th>High</th>\n",
              "      <th>Low</th>\n",
              "      <th>Volume</th>\n",
              "      <th>Close</th>\n",
              "    </tr>\n",
              "    <tr>\n",
              "      <th>Date</th>\n",
              "      <th></th>\n",
              "      <th></th>\n",
              "      <th></th>\n",
              "      <th></th>\n",
              "      <th></th>\n",
              "    </tr>\n",
              "  </thead>\n",
              "  <tbody>\n",
              "    <tr>\n",
              "      <th>2020-01-02</th>\n",
              "      <td>55500</td>\n",
              "      <td>56000</td>\n",
              "      <td>55000</td>\n",
              "      <td>12993228</td>\n",
              "      <td>55200</td>\n",
              "    </tr>\n",
              "    <tr>\n",
              "      <th>2020-01-03</th>\n",
              "      <td>56000</td>\n",
              "      <td>56600</td>\n",
              "      <td>54900</td>\n",
              "      <td>15422255</td>\n",
              "      <td>55500</td>\n",
              "    </tr>\n",
              "    <tr>\n",
              "      <th>2020-01-06</th>\n",
              "      <td>54900</td>\n",
              "      <td>55600</td>\n",
              "      <td>54600</td>\n",
              "      <td>10278951</td>\n",
              "      <td>55500</td>\n",
              "    </tr>\n",
              "    <tr>\n",
              "      <th>2020-01-07</th>\n",
              "      <td>55700</td>\n",
              "      <td>56400</td>\n",
              "      <td>55600</td>\n",
              "      <td>10009778</td>\n",
              "      <td>55800</td>\n",
              "    </tr>\n",
              "    <tr>\n",
              "      <th>2020-01-08</th>\n",
              "      <td>56200</td>\n",
              "      <td>57400</td>\n",
              "      <td>55900</td>\n",
              "      <td>23501171</td>\n",
              "      <td>56800</td>\n",
              "    </tr>\n",
              "    <tr>\n",
              "      <th>2020-01-09</th>\n",
              "      <td>58400</td>\n",
              "      <td>58600</td>\n",
              "      <td>57400</td>\n",
              "      <td>24102579</td>\n",
              "      <td>58600</td>\n",
              "    </tr>\n",
              "    <tr>\n",
              "      <th>2020-01-10</th>\n",
              "      <td>58800</td>\n",
              "      <td>59700</td>\n",
              "      <td>58300</td>\n",
              "      <td>16000170</td>\n",
              "      <td>59500</td>\n",
              "    </tr>\n",
              "    <tr>\n",
              "      <th>2020-01-13</th>\n",
              "      <td>59600</td>\n",
              "      <td>60000</td>\n",
              "      <td>59100</td>\n",
              "      <td>11359139</td>\n",
              "      <td>60000</td>\n",
              "    </tr>\n",
              "    <tr>\n",
              "      <th>2020-01-14</th>\n",
              "      <td>60400</td>\n",
              "      <td>61000</td>\n",
              "      <td>59900</td>\n",
              "      <td>16906295</td>\n",
              "      <td>60000</td>\n",
              "    </tr>\n",
              "    <tr>\n",
              "      <th>2020-01-15</th>\n",
              "      <td>59500</td>\n",
              "      <td>59600</td>\n",
              "      <td>58900</td>\n",
              "      <td>14300928</td>\n",
              "      <td>59000</td>\n",
              "    </tr>\n",
              "  </tbody>\n",
              "</table>\n",
              "</div>\n",
              "    <div class=\"colab-df-buttons\">\n",
              "\n",
              "  <div class=\"colab-df-container\">\n",
              "    <button class=\"colab-df-convert\" onclick=\"convertToInteractive('df-71eba841-c32d-4696-bfbe-109b02432532')\"\n",
              "            title=\"Convert this dataframe to an interactive table.\"\n",
              "            style=\"display:none;\">\n",
              "\n",
              "  <svg xmlns=\"http://www.w3.org/2000/svg\" height=\"24px\" viewBox=\"0 -960 960 960\">\n",
              "    <path d=\"M120-120v-720h720v720H120Zm60-500h600v-160H180v160Zm220 220h160v-160H400v160Zm0 220h160v-160H400v160ZM180-400h160v-160H180v160Zm440 0h160v-160H620v160ZM180-180h160v-160H180v160Zm440 0h160v-160H620v160Z\"/>\n",
              "  </svg>\n",
              "    </button>\n",
              "\n",
              "  <style>\n",
              "    .colab-df-container {\n",
              "      display:flex;\n",
              "      gap: 12px;\n",
              "    }\n",
              "\n",
              "    .colab-df-convert {\n",
              "      background-color: #E8F0FE;\n",
              "      border: none;\n",
              "      border-radius: 50%;\n",
              "      cursor: pointer;\n",
              "      display: none;\n",
              "      fill: #1967D2;\n",
              "      height: 32px;\n",
              "      padding: 0 0 0 0;\n",
              "      width: 32px;\n",
              "    }\n",
              "\n",
              "    .colab-df-convert:hover {\n",
              "      background-color: #E2EBFA;\n",
              "      box-shadow: 0px 1px 2px rgba(60, 64, 67, 0.3), 0px 1px 3px 1px rgba(60, 64, 67, 0.15);\n",
              "      fill: #174EA6;\n",
              "    }\n",
              "\n",
              "    .colab-df-buttons div {\n",
              "      margin-bottom: 4px;\n",
              "    }\n",
              "\n",
              "    [theme=dark] .colab-df-convert {\n",
              "      background-color: #3B4455;\n",
              "      fill: #D2E3FC;\n",
              "    }\n",
              "\n",
              "    [theme=dark] .colab-df-convert:hover {\n",
              "      background-color: #434B5C;\n",
              "      box-shadow: 0px 1px 3px 1px rgba(0, 0, 0, 0.15);\n",
              "      filter: drop-shadow(0px 1px 2px rgba(0, 0, 0, 0.3));\n",
              "      fill: #FFFFFF;\n",
              "    }\n",
              "  </style>\n",
              "\n",
              "    <script>\n",
              "      const buttonEl =\n",
              "        document.querySelector('#df-71eba841-c32d-4696-bfbe-109b02432532 button.colab-df-convert');\n",
              "      buttonEl.style.display =\n",
              "        google.colab.kernel.accessAllowed ? 'block' : 'none';\n",
              "\n",
              "      async function convertToInteractive(key) {\n",
              "        const element = document.querySelector('#df-71eba841-c32d-4696-bfbe-109b02432532');\n",
              "        const dataTable =\n",
              "          await google.colab.kernel.invokeFunction('convertToInteractive',\n",
              "                                                    [key], {});\n",
              "        if (!dataTable) return;\n",
              "\n",
              "        const docLinkHtml = 'Like what you see? Visit the ' +\n",
              "          '<a target=\"_blank\" href=https://colab.research.google.com/notebooks/data_table.ipynb>data table notebook</a>'\n",
              "          + ' to learn more about interactive tables.';\n",
              "        element.innerHTML = '';\n",
              "        dataTable['output_type'] = 'display_data';\n",
              "        await google.colab.output.renderOutput(dataTable, element);\n",
              "        const docLink = document.createElement('div');\n",
              "        docLink.innerHTML = docLinkHtml;\n",
              "        element.appendChild(docLink);\n",
              "      }\n",
              "    </script>\n",
              "  </div>\n",
              "\n",
              "\n",
              "<div id=\"df-66956630-e84b-43bf-adcf-64a8ee9c547d\">\n",
              "  <button class=\"colab-df-quickchart\" onclick=\"quickchart('df-66956630-e84b-43bf-adcf-64a8ee9c547d')\"\n",
              "            title=\"Suggest charts\"\n",
              "            style=\"display:none;\">\n",
              "\n",
              "<svg xmlns=\"http://www.w3.org/2000/svg\" height=\"24px\"viewBox=\"0 0 24 24\"\n",
              "     width=\"24px\">\n",
              "    <g>\n",
              "        <path d=\"M19 3H5c-1.1 0-2 .9-2 2v14c0 1.1.9 2 2 2h14c1.1 0 2-.9 2-2V5c0-1.1-.9-2-2-2zM9 17H7v-7h2v7zm4 0h-2V7h2v10zm4 0h-2v-4h2v4z\"/>\n",
              "    </g>\n",
              "</svg>\n",
              "  </button>\n",
              "\n",
              "<style>\n",
              "  .colab-df-quickchart {\n",
              "      --bg-color: #E8F0FE;\n",
              "      --fill-color: #1967D2;\n",
              "      --hover-bg-color: #E2EBFA;\n",
              "      --hover-fill-color: #174EA6;\n",
              "      --disabled-fill-color: #AAA;\n",
              "      --disabled-bg-color: #DDD;\n",
              "  }\n",
              "\n",
              "  [theme=dark] .colab-df-quickchart {\n",
              "      --bg-color: #3B4455;\n",
              "      --fill-color: #D2E3FC;\n",
              "      --hover-bg-color: #434B5C;\n",
              "      --hover-fill-color: #FFFFFF;\n",
              "      --disabled-bg-color: #3B4455;\n",
              "      --disabled-fill-color: #666;\n",
              "  }\n",
              "\n",
              "  .colab-df-quickchart {\n",
              "    background-color: var(--bg-color);\n",
              "    border: none;\n",
              "    border-radius: 50%;\n",
              "    cursor: pointer;\n",
              "    display: none;\n",
              "    fill: var(--fill-color);\n",
              "    height: 32px;\n",
              "    padding: 0;\n",
              "    width: 32px;\n",
              "  }\n",
              "\n",
              "  .colab-df-quickchart:hover {\n",
              "    background-color: var(--hover-bg-color);\n",
              "    box-shadow: 0 1px 2px rgba(60, 64, 67, 0.3), 0 1px 3px 1px rgba(60, 64, 67, 0.15);\n",
              "    fill: var(--button-hover-fill-color);\n",
              "  }\n",
              "\n",
              "  .colab-df-quickchart-complete:disabled,\n",
              "  .colab-df-quickchart-complete:disabled:hover {\n",
              "    background-color: var(--disabled-bg-color);\n",
              "    fill: var(--disabled-fill-color);\n",
              "    box-shadow: none;\n",
              "  }\n",
              "\n",
              "  .colab-df-spinner {\n",
              "    border: 2px solid var(--fill-color);\n",
              "    border-color: transparent;\n",
              "    border-bottom-color: var(--fill-color);\n",
              "    animation:\n",
              "      spin 1s steps(1) infinite;\n",
              "  }\n",
              "\n",
              "  @keyframes spin {\n",
              "    0% {\n",
              "      border-color: transparent;\n",
              "      border-bottom-color: var(--fill-color);\n",
              "      border-left-color: var(--fill-color);\n",
              "    }\n",
              "    20% {\n",
              "      border-color: transparent;\n",
              "      border-left-color: var(--fill-color);\n",
              "      border-top-color: var(--fill-color);\n",
              "    }\n",
              "    30% {\n",
              "      border-color: transparent;\n",
              "      border-left-color: var(--fill-color);\n",
              "      border-top-color: var(--fill-color);\n",
              "      border-right-color: var(--fill-color);\n",
              "    }\n",
              "    40% {\n",
              "      border-color: transparent;\n",
              "      border-right-color: var(--fill-color);\n",
              "      border-top-color: var(--fill-color);\n",
              "    }\n",
              "    60% {\n",
              "      border-color: transparent;\n",
              "      border-right-color: var(--fill-color);\n",
              "    }\n",
              "    80% {\n",
              "      border-color: transparent;\n",
              "      border-right-color: var(--fill-color);\n",
              "      border-bottom-color: var(--fill-color);\n",
              "    }\n",
              "    90% {\n",
              "      border-color: transparent;\n",
              "      border-bottom-color: var(--fill-color);\n",
              "    }\n",
              "  }\n",
              "</style>\n",
              "\n",
              "  <script>\n",
              "    async function quickchart(key) {\n",
              "      const quickchartButtonEl =\n",
              "        document.querySelector('#' + key + ' button');\n",
              "      quickchartButtonEl.disabled = true;  // To prevent multiple clicks.\n",
              "      quickchartButtonEl.classList.add('colab-df-spinner');\n",
              "      try {\n",
              "        const charts = await google.colab.kernel.invokeFunction(\n",
              "            'suggestCharts', [key], {});\n",
              "      } catch (error) {\n",
              "        console.error('Error during call to suggestCharts:', error);\n",
              "      }\n",
              "      quickchartButtonEl.classList.remove('colab-df-spinner');\n",
              "      quickchartButtonEl.classList.add('colab-df-quickchart-complete');\n",
              "    }\n",
              "    (() => {\n",
              "      let quickchartButtonEl =\n",
              "        document.querySelector('#df-66956630-e84b-43bf-adcf-64a8ee9c547d button');\n",
              "      quickchartButtonEl.style.display =\n",
              "        google.colab.kernel.accessAllowed ? 'block' : 'none';\n",
              "    })();\n",
              "  </script>\n",
              "</div>\n",
              "\n",
              "    </div>\n",
              "  </div>\n"
            ],
            "application/vnd.google.colaboratory.intrinsic+json": {
              "type": "dataframe",
              "variable_name": "df",
              "summary": "{\n  \"name\": \"df\",\n  \"rows\": 1108,\n  \"fields\": [\n    {\n      \"column\": \"Date\",\n      \"properties\": {\n        \"dtype\": \"date\",\n        \"min\": \"2020-01-02 00:00:00\",\n        \"max\": \"2024-06-28 00:00:00\",\n        \"num_unique_values\": 1108,\n        \"samples\": [\n          \"2022-06-29 00:00:00\",\n          \"2022-12-20 00:00:00\",\n          \"2020-03-24 00:00:00\"\n        ],\n        \"semantic_type\": \"\",\n        \"description\": \"\"\n      }\n    },\n    {\n      \"column\": \"Open\",\n      \"properties\": {\n        \"dtype\": \"number\",\n        \"std\": 9940,\n        \"min\": 42600,\n        \"max\": 90300,\n        \"num_unique_values\": 363,\n        \"samples\": [\n          84500,\n          56700,\n          59400\n        ],\n        \"semantic_type\": \"\",\n        \"description\": \"\"\n      }\n    },\n    {\n      \"column\": \"High\",\n      \"properties\": {\n        \"dtype\": \"number\",\n        \"std\": 9973,\n        \"min\": 43550,\n        \"max\": 96800,\n        \"num_unique_values\": 360,\n        \"samples\": [\n          74400,\n          49650,\n          68800\n        ],\n        \"semantic_type\": \"\",\n        \"description\": \"\"\n      }\n    },\n    {\n      \"column\": \"Low\",\n      \"properties\": {\n        \"dtype\": \"number\",\n        \"std\": 9890,\n        \"min\": 42300,\n        \"max\": 89500,\n        \"num_unique_values\": 361,\n        \"samples\": [\n          86300,\n          53700,\n          60700\n        ],\n        \"semantic_type\": \"\",\n        \"description\": \"\"\n      }\n    },\n    {\n      \"column\": \"Volume\",\n      \"properties\": {\n        \"dtype\": \"number\",\n        \"std\": 8124844,\n        \"min\": 5767902,\n        \"max\": 90306177,\n        \"num_unique_values\": 1108,\n        \"samples\": [\n          14677138,\n          9284761,\n          49801908\n        ],\n        \"semantic_type\": \"\",\n        \"description\": \"\"\n      }\n    },\n    {\n      \"column\": \"Close\",\n      \"properties\": {\n        \"dtype\": \"number\",\n        \"std\": 9919,\n        \"min\": 42500,\n        \"max\": 91000,\n        \"num_unique_values\": 366,\n        \"samples\": [\n          84700,\n          55000,\n          59100\n        ],\n        \"semantic_type\": \"\",\n        \"description\": \"\"\n      }\n    }\n  ]\n}"
            }
          },
          "metadata": {},
          "execution_count": 6
        }
      ]
    },
    {
      "cell_type": "code",
      "source": [
        "split =   int(0.7 * len(df)) # train : test = 7 : 3\n",
        "\n",
        "train_df = df[:split]\n",
        "test_df = df[split:]"
      ],
      "metadata": {
        "id": "naCeHYTgy7vj"
      },
      "execution_count": 7,
      "outputs": []
    },
    {
      "cell_type": "code",
      "source": [
        "df['Close'].plot().grid() # label값 시각화"
      ],
      "metadata": {
        "colab": {
          "base_uri": "https://localhost:8080/",
          "height": 433
        },
        "id": "2F0r8Bcs07Gu",
        "outputId": "da7c0f51-6bf5-416a-d899-e1c599bf0f91"
      },
      "execution_count": 8,
      "outputs": [
        {
          "output_type": "display_data",
          "data": {
            "text/plain": [
              "<Figure size 640x480 with 1 Axes>"
            ],
            "image/png": "[encoded data removed]"
          },
          "metadata": {}
        }
      ]
    },
    {
      "cell_type": "code",
      "source": [
        "scaler_x = MinMaxScaler() # MinMaxScaler, 데이터 전처리를 위해 기본값 [0,1]로 변경\n",
        "scaler_y = MinMaxScaler() # MinMaxScaler\n",
        "\n",
        "train_df.iloc[ : , :-1 ] = scaler_x.fit_transform(train_df.iloc[ : , :-1 ])\n",
        "test_df.iloc[ : , :-1 ] = scaler_x.fit_transform(test_df.iloc[ : , :-1 ])\n",
        "\n",
        "train_df.iloc[ : , -1 ] = scaler_y.fit_transform(train_df.iloc[ : , [-1] ])\n",
        "test_df.iloc[ : , -1 ] = scaler_y.fit_transform(test_df.iloc[ : , [-1]])"
      ],
      "metadata": {
        "id": "PQ5VM-TX1irU"
      },
      "execution_count": 20,
      "outputs": []
    },
    {
      "cell_type": "code",
      "source": [
        "def MakeSeqNumpyData(data, seq_length):\n",
        "\n",
        "    x_seq_list = []\n",
        "    y_seq_list = []\n",
        "\n",
        "    for i in range(len(data) - seq_length):\n",
        "        x_seq_list.append(data[ i:i+seq_length, :-1 ]) # 행의 전체와 열의 마지막을 제외한 전체부분\n",
        "        y_seq_list.append(data[ i+seq_length, [-1] ]) # 열의 마지막 부분\n",
        "\n",
        "    x_seq_numpy = np.array(x_seq_list)\n",
        "    y_seq_numpy = np.array(y_seq_list)\n",
        "\n",
        "    return x_seq_numpy, y_seq_numpy"
      ],
      "metadata": {
        "id": "4QwKkH-A1ipr"
      },
      "execution_count": 21,
      "outputs": []
    },
    {
      "cell_type": "code",
      "source": [
        "x_train, y_train = MakeSeqNumpyData(np.array(train_df), SEQ_LENGTH)\n",
        "x_test, y_test = MakeSeqNumpyData(np.array(test_df), SEQ_LENGTH) # time_steps = 5"
      ],
      "metadata": {
        "id": "_dFPTxGD1imu"
      },
      "execution_count": 22,
      "outputs": []
    },
    {
      "cell_type": "code",
      "source": [
        "# 데이터 생성\n",
        "\n",
        "x_train_tensor = torch.FloatTensor(x_train).to(DEVICE)\n",
        "y_train_tensor = torch.FloatTensor(y_train).to(DEVICE)\n",
        "\n",
        "x_test_tensor = torch.FloatTensor(x_test).to(DEVICE)\n",
        "y_test_tensor = torch.FloatTensor(y_test).to(DEVICE)\n",
        "\n",
        "# dataset\n",
        "train_dataset = TensorDataset(x_train_tensor, y_train_tensor)\n",
        "test_dataset = TensorDataset(x_test_tensor, y_test_tensor)\n",
        "\n",
        "# dataloader\n",
        "train_dataloader = DataLoader(train_dataset, batch_size = BATCH_SIZE, shuffle = False)\n",
        "test_dataloader = DataLoader(test_dataset, batch_size = BATCH_SIZE, shuffle = False)\n",
        "\n"
      ],
      "metadata": {
        "id": "b1uxxc9v67Pj"
      },
      "execution_count": 24,
      "outputs": []
    },
    {
      "cell_type": "code",
      "source": [
        "# 모델 정의\n",
        "class MyGRUModel(nn.Module):\n",
        "\n",
        "    def __init__(self, input_size, hidden_size, num_layers):\n",
        "        super().__init__()\n",
        "        self.num_layers = num_layers\n",
        "        self.hidden_size = hidden_size\n",
        "        self.gru = nn.GRU(input_size, hidden_size, num_layers, batch_first=True) # GRU\n",
        "        self.fc = nn.Linear(hidden_size, 1) # 출력값 1개\n",
        "\n",
        "    # 피드 포워드\n",
        "    def forward(self, data):\n",
        "        h0 = torch.zeros(self.num_layers, data.size(0), self.hidden_size).to(DEVICE)\n",
        "\n",
        "        outputs, _ = self.gru(data, h0)\n",
        "        last_hs = outputs[:, -1, :] # [input_size, hidden_size, num_layers]에서 전체 input_size, 마지막 hidden_size, num_layers를 출력\n",
        "        prediction = self.fc(last_hs)\n",
        "\n",
        "        return prediction\n",
        ""
      ],
      "metadata": {
        "id": "segVElKi7sKQ"
      },
      "execution_count": 25,
      "outputs": []
    },
    {
      "cell_type": "code",
      "source": [
        "# 손실함수, 옵티마이저\n",
        "model = MyGRUModel(FEATURE_NUMS, HIDDEN_SIZE, NUM_LAYERS).to(DEVICE) # 4 4 1\n",
        "\n",
        "loss_function = nn.MSELoss()\n",
        "\n",
        "optimizer = torch.optim.Adam(model.parameters(), lr=LEARNING_RATE)"
      ],
      "metadata": {
        "id": "3kf1H_s-85XM"
      },
      "execution_count": 26,
      "outputs": []
    },
    {
      "cell_type": "code",
      "source": [
        "def model_train(dataloader, model, loss_function, optimizer):\n",
        "\n",
        "    model.train() # 학습모드\n",
        "\n",
        "    train_loss_sum = 0\n",
        "\n",
        "    total_train_batch = len(dataloader)\n",
        "\n",
        "    for inputs, labels in dataloader:\n",
        "\n",
        "        x_train = inputs.to(DEVICE)\n",
        "        y_train = labels.to(DEVICE)\n",
        "\n",
        "        outputs = model(x_train) # 예측값\n",
        "        loss = loss_function(outputs, y_train) # 오차\n",
        "\n",
        "        # 역전파\n",
        "        optimizer.zero_grad()\n",
        "        loss.backward()\n",
        "        optimizer.step()\n",
        "\n",
        "        train_loss_sum += loss.item()\n",
        "\n",
        "    train_avg_loss = train_loss_sum / total_train_batch\n",
        "\n",
        "    return train_avg_loss"
      ],
      "metadata": {
        "id": "4PIqTEBN9VoT"
      },
      "execution_count": 28,
      "outputs": []
    },
    {
      "cell_type": "code",
      "source": [
        "def model_evaluate(dataloader, model, loss_function, optimizer):\n",
        "\n",
        "    model.eval() # 평가모드\n",
        "\n",
        "    with torch.no_grad():\n",
        "\n",
        "        val_loss_sum = 0\n",
        "\n",
        "        total_val_batch = len(dataloader)\n",
        "\n",
        "        for inputs, labels in dataloader:\n",
        "\n",
        "            x_val = inputs.to(DEVICE)\n",
        "            y_val = labels.to(DEVICE)\n",
        "\n",
        "            outputs = model(x_val)\n",
        "            loss = loss_function(outputs, y_val)\n",
        "\n",
        "            # 역전파 코드 없음\n",
        "\n",
        "            val_loss_sum += loss.item()\n",
        "\n",
        "        val_avg_loss = val_loss_sum / total_val_batch\n",
        "\n",
        "    return val_avg_loss"
      ],
      "metadata": {
        "id": "H6-woi1p9h9m"
      },
      "execution_count": 27,
      "outputs": []
    },
    {
      "cell_type": "code",
      "source": [
        "# 학습\n",
        "from datetime import datetime\n",
        "\n",
        "train_loss_list = []\n",
        "\n",
        "start_time = datetime.now()\n",
        "\n",
        "EPOCHS = 200\n",
        "\n",
        "for epoch in range(EPOCHS):\n",
        "\n",
        "    avg_loss = model_train(train_dataloader, model, loss_function, optimizer)\n",
        "\n",
        "    train_loss_list.append(avg_loss)\n",
        "\n",
        "    if (epoch % 10 == 0):\n",
        "        print('epoch: ', epoch, ', train loss = ', avg_loss)\n",
        "\n",
        "end_time = datetime.now()\n",
        "\n",
        "print('elapsed time => ', end_time-start_time)\n",
        ""
      ],
      "metadata": {
        "colab": {
          "base_uri": "https://localhost:8080/"
        },
        "id": "kQcO4kT09sR-",
        "outputId": "e2bd68e6-05f0-4c7c-d31d-7b6dd0c60b94"
      },
      "execution_count": 29,
      "outputs": [
        {
          "output_type": "stream",
          "name": "stdout",
          "text": [
            "epoch:  0 , train loss =  0.016723427480498616\n",
            "epoch:  10 , train loss =  0.0008929474693454372\n",
            "epoch:  20 , train loss =  0.000830440197322064\n",
            "epoch:  30 , train loss =  0.0008229904715568783\n",
            "epoch:  40 , train loss =  0.000826358859716819\n",
            "epoch:  50 , train loss =  0.0008211399668093341\n",
            "epoch:  60 , train loss =  0.000807785001084901\n",
            "epoch:  70 , train loss =  0.0007913724455134704\n",
            "epoch:  80 , train loss =  0.0007743853650306567\n",
            "epoch:  90 , train loss =  0.0007577174382720095\n",
            "epoch:  100 , train loss =  0.0007418798333487641\n",
            "epoch:  110 , train loss =  0.0007272697182951304\n",
            "epoch:  120 , train loss =  0.0007142696409480264\n",
            "epoch:  130 , train loss =  0.0007031646084028464\n",
            "epoch:  140 , train loss =  0.0006940428269071839\n",
            "epoch:  150 , train loss =  0.0006867457231214175\n",
            "epoch:  160 , train loss =  0.0006809563533468649\n",
            "epoch:  170 , train loss =  0.0006762869146395809\n",
            "epoch:  180 , train loss =  0.000672399491752283\n",
            "epoch:  190 , train loss =  0.0006690372321874094\n",
            "elapsed time =>  0:00:30.093451\n"
          ]
        }
      ]
    },
    {
      "cell_type": "code",
      "source": [
        "import matplotlib.pyplot as plt\n",
        "\n",
        "plt.title('Loss Trend')\n",
        "plt.xlabel('epochs')\n",
        "plt.ylabel('loss')\n",
        "plt.grid()\n",
        "plt.plot(train_loss_list, label='train loss')\n",
        "plt.legend()\n",
        "plt.show()"
      ],
      "metadata": {
        "colab": {
          "base_uri": "https://localhost:8080/",
          "height": 472
        },
        "id": "WJJdS4cr9xf9",
        "outputId": "31937d15-9476-4672-9976-79bdd1b89984"
      },
      "execution_count": 30,
      "outputs": [
        {
          "output_type": "display_data",
          "data": {
            "text/plain": [
              "<Figure size 640x480 with 1 Axes>"
            ],
            "image/png": "[encoded data removed]"
          },
          "metadata": {}
        }
      ]
    },
    {
      "cell_type": "code",
      "source": [
        "# test\n",
        "test_pred_tensor = model(x_test_tensor)\n",
        "\n",
        "test_pred_numpy = test_pred_tensor.cpu().detach().numpy() # 역전파 방지를 위해 더이상 계산, 그래프에 넣지 않음\n",
        "\n",
        "pred_inverse = scaler_y.inverse_transform(test_pred_numpy)\n",
        "\n",
        "y_test_numpy = y_test_tensor.cpu().detach().numpy()\n",
        "\n",
        "y_test_inverse = scaler_y.inverse_transform(y_test_numpy) # 원가로 보여주기 위해 inverse_transform"
      ],
      "metadata": {
        "id": "1Q31nher-E35"
      },
      "execution_count": 32,
      "outputs": []
    },
    {
      "cell_type": "code",
      "source": [
        "import matplotlib.pyplot as plt\n",
        "\n",
        "plt.plot(y_test_inverse, label='actual')\n",
        "plt.plot(pred_inverse, label='prediction')\n",
        "plt.grid()\n",
        "plt.legend()\n",
        "\n",
        "plt.show()\n",
        ""
      ],
      "metadata": {
        "colab": {
          "base_uri": "https://localhost:8080/",
          "height": 430
        },
        "id": "FWpVNP6v-UsJ",
        "outputId": "b7de9b5b-6054-4d3b-bc3c-9ad2e43b261c"
      },
      "execution_count": 33,
      "outputs": [
        {
          "output_type": "display_data",
          "data": {
            "text/plain": [
              "<Figure size 640x480 with 1 Axes>"
            ],
            "image/png": "[encoded data removed]"
          },
          "metadata": {}
        }
      ]
    }
  ]
}